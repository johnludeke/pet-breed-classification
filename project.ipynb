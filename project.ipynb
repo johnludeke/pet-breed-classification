{
 "cells": [
  {
   "cell_type": "markdown",
   "id": "d65c02bc-e71b-4b57-ae73-303dbb591ade",
   "metadata": {},
   "source": [
    "# CLASSIFYING DOG v. CAT\n",
    "\n",
    "Was able to achieve an accuracy of 99% with small tweaks as well as letting the model train for longer.\n",
    "\n",
    "This was an expected result considering there were plenty of labeled training images for just a binary classification. This will prove more difficult when trying to classify 37 breeds rather than just 2 animals.\n",
    "\n",
    "```\n",
    "Evaluating: 100%|██████████████████████████████████| 115/115 [01:59<00:00,  1.04s/batch, acc=0.9899]\n",
    "[Binary] Test Accuracy: 0.9899\n",
    "```"
   ]
  },
  {
   "cell_type": "code",
   "execution_count": 10,
   "id": "391176f1",
   "metadata": {},
   "outputs": [],
   "source": [
    "# CELL ONE\n",
    "import torch\n",
    "import torch.nn as nn\n",
    "import torch.optim as optim\n",
    "from torchvision import transforms, models\n",
    "from torchvision.datasets import OxfordIIITPet\n",
    "from torch.utils.data import DataLoader\n",
    "from torchvision.models import resnet18, ResNet18_Weights\n",
    "from tqdm import tqdm"
   ]
  },
  {
   "cell_type": "code",
   "execution_count": 11,
   "id": "2c9c3f4d",
   "metadata": {},
   "outputs": [],
   "source": [
    "# CELL TWO\n",
    "# Set device\n",
    "device = torch.device(\"cuda\" if torch.cuda.is_available() else \"cpu\")\n",
    "\n",
    "# Image preprocessing\n",
    "input_size = 224\n",
    "transform = transforms.Compose([\n",
    "    # Resize shortest side to target length, maintain aspect ratio\n",
    "    transforms.Resize(input_size),\n",
    "    # Crop center square of size (input_size, input_size)\n",
    "    transforms.CenterCrop(input_size),\n",
    "    transforms.ToTensor(),\n",
    "    transforms.Normalize([0.485, 0.456, 0.406],\n",
    "                         [0.229, 0.224, 0.225])\n",
    "])\n",
    "\n",
    "# Dataset root\n",
    "data_root = 'data'\n",
    "\n",
    "# Load only binary (cat vs. dog) labels\n",
    "train_dataset = OxfordIIITPet(\n",
    "    root=data_root,\n",
    "    split='trainval',\n",
    "    target_types='binary-category',\n",
    "    transform=transform,\n",
    "    download=True\n",
    ")\n",
    "test_dataset = OxfordIIITPet(\n",
    "    root=data_root,\n",
    "    split='test',\n",
    "    target_types='binary-category',\n",
    "    transform=transform,\n",
    "    download=True\n",
    ")\n",
    "\n",
    "# Data loaders\n",
    "batch_size = 32\n",
    "train_loader = DataLoader(train_dataset, batch_size=batch_size, shuffle=True, num_workers=4)\n",
    "test_loader = DataLoader(test_dataset, batch_size=batch_size, shuffle=False, num_workers=4)"
   ]
  },
  {
   "cell_type": "code",
   "execution_count": 12,
   "id": "b0716a1b-f7b2-4260-8338-b1cfc53c2589",
   "metadata": {},
   "outputs": [],
   "source": [
    "# CELL THREE\n",
    "# Build ResNet18 model for binary classification\n",
    "weights = ResNet18_Weights.DEFAULT\n",
    "model = resnet18(weights=weights)\n",
    "num_feats = model.fc.in_features\n",
    "model.fc = nn.Linear(num_feats, 2)\n",
    "\n",
    "# freeze all except the new fc\n",
    "for param in model.parameters():\n",
    "    param.requires_grad = False\n",
    "for param in model.fc.parameters():\n",
    "    param.requires_grad = True\n",
    "\n",
    "model = model.to(device)\n",
    "\n",
    "criterion = nn.CrossEntropyLoss()\n",
    "optimizer = optim.SGD(\n",
    "    model.fc.parameters(), lr=0.01, momentum=0.9,\n",
    "    weight_decay=1e-4, nesterov=True\n",
    ")\n",
    "scheduler = optim.lr_scheduler.StepLR(optimizer, step_size=5, gamma=0.1)"
   ]
  },
  {
   "cell_type": "code",
   "execution_count": 15,
   "id": "f500879f-1a75-4fd4-bfa0-a6958b2db6de",
   "metadata": {},
   "outputs": [
    {
     "name": "stderr",
     "output_type": "stream",
     "text": [
      "Epoch [1/2]: 100%|████████████████████| 115/115 [02:03<00:00,  1.07s/batch, acc=0.9878, loss=0.0329]\n"
     ]
    },
    {
     "name": "stdout",
     "output_type": "stream",
     "text": [
      "[Binary] Epoch 1/2   Loss: 0.0329   Acc: 0.9878\n"
     ]
    },
    {
     "name": "stderr",
     "output_type": "stream",
     "text": [
      "Epoch [2/2]: 100%|████████████████████| 115/115 [02:02<00:00,  1.07s/batch, acc=0.9916, loss=0.0248]\n"
     ]
    },
    {
     "name": "stdout",
     "output_type": "stream",
     "text": [
      "[Binary] Epoch 2/2   Loss: 0.0248   Acc: 0.9916\n"
     ]
    },
    {
     "name": "stderr",
     "output_type": "stream",
     "text": [
      "Evaluating: 100%|██████████████████████████████████| 115/115 [01:59<00:00,  1.04s/batch, acc=0.9899]"
     ]
    },
    {
     "name": "stdout",
     "output_type": "stream",
     "text": [
      "[Binary] Test Accuracy: 0.9899\n"
     ]
    },
    {
     "name": "stderr",
     "output_type": "stream",
     "text": [
      "\n"
     ]
    }
   ],
   "source": [
    "# CELL FOUR\n",
    "def train(model, loader, criterion, optimizer, scheduler=None, epochs=5):\n",
    "    model.train()\n",
    "    for epoch in range(epochs):\n",
    "        total_loss = 0.0\n",
    "        total_correct = 0\n",
    "        loop = tqdm(loader, \n",
    "                    desc=f\"Epoch [{epoch+1}/{epochs}]\", \n",
    "                    ncols=100, \n",
    "                    unit=\"batch\")\n",
    "        \n",
    "        for batch_idx, (images, labels) in enumerate(loop, start=1):\n",
    "            images, labels = images.to(device), labels.to(device)\n",
    "            optimizer.zero_grad()\n",
    "            outputs = model(images)\n",
    "            loss = criterion(outputs, labels)\n",
    "            loss.backward()\n",
    "            optimizer.step()\n",
    "\n",
    "            preds = outputs.argmax(dim=1)\n",
    "            total_loss   += loss.item() * images.size(0)\n",
    "            total_correct+= (preds == labels).sum().item()\n",
    "\n",
    "            # compute running averages\n",
    "            seen = batch_idx * loader.batch_size\n",
    "            running_loss = total_loss / seen\n",
    "            running_acc  = total_correct / seen\n",
    "\n",
    "            loop.set_postfix(\n",
    "                loss=f\"{running_loss:.4f}\",\n",
    "                acc=f\"{running_acc:.4f}\"\n",
    "            )\n",
    "\n",
    "        if scheduler:\n",
    "            scheduler.step()\n",
    "            \n",
    "        avg_loss = total_loss / len(loader.dataset)\n",
    "        avg_acc  = total_correct / len(loader.dataset)\n",
    "        tqdm.write(\n",
    "            f\"[Binary] Epoch {epoch+1}/{epochs}   \"\n",
    "            f\"Loss: {avg_loss:.4f}   Acc: {avg_acc:.4f}\"\n",
    "        )\n",
    "\n",
    "def evaluate(model, loader):\n",
    "    model.eval()\n",
    "    correct, total = 0, 0\n",
    "    loop = tqdm(loader, desc=\"Evaluating\", ncols=100, unit=\"batch\")\n",
    "    with torch.no_grad():\n",
    "        for batch_idx, (images, labels) in enumerate(loop, start=1):\n",
    "            images, labels = images.to(device), labels.to(device)\n",
    "            outputs = model(images)\n",
    "            preds = outputs.argmax(dim=1)\n",
    "            correct += (preds == labels).sum().item()\n",
    "            total   += labels.size(0)\n",
    "            loop.set_postfix(acc=f\"{correct/total:.4f}\")\n",
    "    print(f\"[Binary] Test Accuracy: {correct/total:.4f}\")\n",
    "\n",
    "train(model, train_loader, criterion, optimizer, scheduler, epochs=2)\n",
    "evaluate(model, test_loader)"
   ]
  },
  {
   "cell_type": "markdown",
   "id": "8aa6f6da-13e7-469f-860f-b6c8d2598880",
   "metadata": {},
   "source": [
    "# CLASSIFYING BREEDS"
   ]
  },
  {
   "cell_type": "markdown",
   "id": "e53fefb3-67aa-47f8-ab85-5f44f315c8f6",
   "metadata": {},
   "source": [
    "### Strategy 1: Fine-tune $l$ layers simultaneously\n",
    "\n",
    "This was not a very efficient strategy, as it took a long time to train. Strategy 1 compared to Strategy 2 performed better by 2-3%. This makes sense as the increased number of classes means that features are more sensitive. You can see in the results below that the deeper the fine-tuning, the better the model performed. Likewise, if we trained an entire model from scratch it would likely perform even better. One point of transfer learning is to save resources however, and achieving around 93% accuracy without much effort is remarkable.\n",
    "\n",
    "```\n",
    "=== Summary of validation accuracies ===\n",
    "l=1: 0.9158\n",
    "l=2: 0.9198\n",
    "l=3: 0.9198\n",
    "l=4: 0.9144\n",
    "l=5: 0.9266\n",
    "l=6: 0.9171\n",
    "l=7: 0.9293\n",
    "l=8: 0.9117\n",
    "```\n",
    "\n",
    "Note also that there is a peak around 5-7 layers. It is likely that more epochs per layer would allow best performance. This model already took hours to train however.\n",
    "\n",
    "```\n",
    "Eval: 100%|████████████████████████████████████████| 115/115 [01:59<00:00,  1.04s/batch, acc=0.8967]\n",
    "Eval Summary — Acc: 0.8967\n",
    "Final test accuracy: 0.8967\n",
    "```\n",
    "\n",
    "Final accuracy is not satisfactory however, and we can do better. This shows slight overfitting to the train set which is to be expected. Maybe we can do better with different strategies..."
   ]
  },
  {
   "cell_type": "code",
   "execution_count": 16,
   "id": "6455acda-2264-41e7-a60a-1dd3443199fa",
   "metadata": {},
   "outputs": [],
   "source": [
    "# CELL ONE: imports, device, transforms, datasets + train/val/test split\n",
    "import torch\n",
    "import torch.nn as nn\n",
    "import torch.optim as optim\n",
    "from torchvision import transforms, models\n",
    "from torchvision.datasets import OxfordIIITPet\n",
    "from torch.utils.data import DataLoader, random_split\n",
    "from torchvision.models import resnet18, ResNet18_Weights\n",
    "from tqdm import tqdm\n",
    "\n",
    "# device\n",
    "device = torch.device(\"cuda\" if torch.cuda.is_available() else \"cpu\")\n",
    "\n",
    "# image preprocessing\n",
    "input_size = 224\n",
    "transform = transforms.Compose([\n",
    "    transforms.Resize(input_size),\n",
    "    transforms.CenterCrop(input_size),\n",
    "    transforms.ToTensor(),\n",
    "    transforms.Normalize([0.485, 0.456, 0.406],\n",
    "                         [0.229, 0.224, 0.225])\n",
    "])\n",
    "\n",
    "# dataset root\n",
    "data_root = 'data'\n",
    "\n",
    "# full trainval with 37 classes\n",
    "full_trainval = OxfordIIITPet(\n",
    "    root=data_root,\n",
    "    split='trainval',\n",
    "    target_types='category',      # multiclass\n",
    "    transform=transform,\n",
    "    download=True\n",
    ")\n",
    "# hold-out test\n",
    "test_dataset = OxfordIIITPet(\n",
    "    root=data_root,\n",
    "    split='test',\n",
    "    target_types='category',\n",
    "    transform=transform,\n",
    "    download=True\n",
    ")\n",
    "\n",
    "# split train/val (80/20)\n",
    "val_pct = 0.2\n",
    "val_size = int(len(full_trainval) * val_pct)\n",
    "train_size = len(full_trainval) - val_size\n",
    "train_dataset, val_dataset = random_split(full_trainval, [train_size, val_size])\n",
    "\n",
    "# data loaders\n",
    "batch_size = 32\n",
    "train_loader = DataLoader(train_dataset, batch_size=batch_size, shuffle=True, num_workers=4)\n",
    "val_loader   = DataLoader(val_dataset,   batch_size=batch_size, shuffle=False, num_workers=4)\n",
    "test_loader  = DataLoader(test_dataset,  batch_size=batch_size, shuffle=False, num_workers=4)"
   ]
  },
  {
   "cell_type": "code",
   "execution_count": 17,
   "id": "026eb7d6-c264-4ce1-8992-fc3de0c5e492",
   "metadata": {},
   "outputs": [],
   "source": [
    "# CELL TWO: helper to build model & set fine-tunable layers\n",
    "def build_model(num_classes=37):\n",
    "    model = resnet18(weights=ResNet18_Weights.DEFAULT)\n",
    "    num_feats = model.fc.in_features\n",
    "    model.fc = nn.Linear(num_feats, num_classes)\n",
    "    return model\n",
    "\n",
    "def set_fine_tune_layers(model, l):\n",
    "    # freeze all\n",
    "    for p in model.parameters():\n",
    "        p.requires_grad = False\n",
    "    # blocks in order of deepest to shallow + fc\n",
    "    blocks = ['layer4', 'layer3', 'layer2', 'layer1', 'fc']\n",
    "    # unfreeze the first l of them\n",
    "    to_unfreeze = blocks[:l]\n",
    "    for name, module in model.named_children():\n",
    "        if name in to_unfreeze:\n",
    "            for p in module.parameters():\n",
    "                p.requires_grad = True"
   ]
  },
  {
   "cell_type": "code",
   "execution_count": 20,
   "id": "3dd74b5f-7ba6-4c24-ad00-dba02607b0a8",
   "metadata": {},
   "outputs": [],
   "source": [
    "# CELL THREE: train & evaluate\n",
    "criterion = nn.CrossEntropyLoss()\n",
    "\n",
    "def train_one_epoch(model, loader, optimizer, epoch, epochs):\n",
    "    model.train()\n",
    "    total_loss, total_correct = 0.0, 0\n",
    "    processed = 0\n",
    "    loop = tqdm(loader,\n",
    "                desc=f\"Epoch [{epoch}/{epochs}] Train\",\n",
    "                ncols=100,\n",
    "                unit=\"batch\",\n",
    "                leave=True)\n",
    "    for images, labels in loop:\n",
    "        images, labels = images.to(device), labels.to(device)\n",
    "        optimizer.zero_grad()\n",
    "        outputs = model(images)\n",
    "        loss = criterion(outputs, labels)\n",
    "        loss.backward()\n",
    "        optimizer.step()\n",
    "\n",
    "        batch_size = images.size(0)\n",
    "        processed    += batch_size\n",
    "        total_loss   += loss.item() * batch_size\n",
    "        total_correct+= (outputs.argmax(1) == labels).sum().item()\n",
    "\n",
    "        loop.set_postfix(\n",
    "            loss=f\"{total_loss/processed:.4f}\",\n",
    "            acc =f\"{total_correct/processed:.4f}\"\n",
    "        )\n",
    "\n",
    "    avg_loss = total_loss / len(loader.dataset)\n",
    "    avg_acc  = total_correct / len(loader.dataset)\n",
    "    tqdm.write(f\"Train Summary — Loss: {avg_loss:.4f}, Acc: {avg_acc:.4f}\")\n",
    "    return avg_loss, avg_acc\n",
    "\n",
    "def evaluate(model, loader):\n",
    "    model.eval()\n",
    "    correct, total = 0, 0\n",
    "    loop = tqdm(loader,\n",
    "                desc=\"Eval\",\n",
    "                ncols=100,\n",
    "                unit=\"batch\",\n",
    "                leave=True)\n",
    "    with torch.no_grad():\n",
    "        for images, labels in loop:\n",
    "            images, labels = images.to(device), labels.to(device)\n",
    "            outputs = model(images)\n",
    "            correct += (outputs.argmax(1) == labels).sum().item()\n",
    "            total   += labels.size(0)\n",
    "            loop.set_postfix(acc=f\"{correct/total:.4f}\")\n",
    "\n",
    "    acc = correct / total\n",
    "    tqdm.write(f\"Eval Summary — Acc: {acc:.4f}\")\n",
    "    return acc"
   ]
  },
  {
   "cell_type": "code",
   "execution_count": 21,
   "id": "e8516e98-d3cb-40f4-aefc-2b6e4c936cf6",
   "metadata": {
    "scrolled": true
   },
   "outputs": [
    {
     "name": "stdout",
     "output_type": "stream",
     "text": [
      "\n",
      "### Fine-tuning last 1 block(s) + fc ###\n"
     ]
    },
    {
     "name": "stderr",
     "output_type": "stream",
     "text": [
      "Epoch [1/8] Train: 100%|████████████████| 92/92 [01:54<00:00,  1.24s/batch, acc=0.6043, loss=1.8052]\n"
     ]
    },
    {
     "name": "stdout",
     "output_type": "stream",
     "text": [
      "Train Summary — Loss: 1.8052, Acc: 0.6043\n"
     ]
    },
    {
     "name": "stderr",
     "output_type": "stream",
     "text": [
      "Eval: 100%|██████████████████████████████████████████| 23/23 [00:43<00:00,  1.88s/batch, acc=0.8764]\n"
     ]
    },
    {
     "name": "stdout",
     "output_type": "stream",
     "text": [
      "Eval Summary — Acc: 0.8764\n",
      "Epoch 1/8  Val Acc: 0.8764\n"
     ]
    },
    {
     "name": "stderr",
     "output_type": "stream",
     "text": [
      "Epoch [2/8] Train: 100%|████████████████| 92/92 [01:55<00:00,  1.25s/batch, acc=0.9256, loss=0.5645]\n"
     ]
    },
    {
     "name": "stdout",
     "output_type": "stream",
     "text": [
      "Train Summary — Loss: 0.5645, Acc: 0.9256\n"
     ]
    },
    {
     "name": "stderr",
     "output_type": "stream",
     "text": [
      "Eval: 100%|██████████████████████████████████████████| 23/23 [00:43<00:00,  1.89s/batch, acc=0.9022]\n"
     ]
    },
    {
     "name": "stdout",
     "output_type": "stream",
     "text": [
      "Eval Summary — Acc: 0.9022\n",
      "Epoch 2/8  Val Acc: 0.9022\n"
     ]
    },
    {
     "name": "stderr",
     "output_type": "stream",
     "text": [
      "Epoch [3/8] Train: 100%|████████████████| 92/92 [01:55<00:00,  1.25s/batch, acc=0.9708, loss=0.3036]\n"
     ]
    },
    {
     "name": "stdout",
     "output_type": "stream",
     "text": [
      "Train Summary — Loss: 0.3036, Acc: 0.9708\n"
     ]
    },
    {
     "name": "stderr",
     "output_type": "stream",
     "text": [
      "Eval: 100%|██████████████████████████████████████████| 23/23 [00:43<00:00,  1.90s/batch, acc=0.9008]\n"
     ]
    },
    {
     "name": "stdout",
     "output_type": "stream",
     "text": [
      "Eval Summary — Acc: 0.9008\n",
      "Epoch 3/8  Val Acc: 0.9008\n"
     ]
    },
    {
     "name": "stderr",
     "output_type": "stream",
     "text": [
      "Epoch [4/8] Train: 100%|████████████████| 92/92 [01:55<00:00,  1.26s/batch, acc=0.9925, loss=0.1810]\n"
     ]
    },
    {
     "name": "stdout",
     "output_type": "stream",
     "text": [
      "Train Summary — Loss: 0.1810, Acc: 0.9925\n"
     ]
    },
    {
     "name": "stderr",
     "output_type": "stream",
     "text": [
      "Eval: 100%|██████████████████████████████████████████| 23/23 [00:44<00:00,  1.92s/batch, acc=0.9049]\n"
     ]
    },
    {
     "name": "stdout",
     "output_type": "stream",
     "text": [
      "Eval Summary — Acc: 0.9049\n",
      "Epoch 4/8  Val Acc: 0.9049\n"
     ]
    },
    {
     "name": "stderr",
     "output_type": "stream",
     "text": [
      "Epoch [5/8] Train: 100%|████████████████| 92/92 [01:55<00:00,  1.26s/batch, acc=0.9997, loss=0.1090]\n"
     ]
    },
    {
     "name": "stdout",
     "output_type": "stream",
     "text": [
      "Train Summary — Loss: 0.1090, Acc: 0.9997\n"
     ]
    },
    {
     "name": "stderr",
     "output_type": "stream",
     "text": [
      "Eval: 100%|██████████████████████████████████████████| 23/23 [00:43<00:00,  1.89s/batch, acc=0.9144]\n"
     ]
    },
    {
     "name": "stdout",
     "output_type": "stream",
     "text": [
      "Eval Summary — Acc: 0.9144\n",
      "Epoch 5/8  Val Acc: 0.9144\n"
     ]
    },
    {
     "name": "stderr",
     "output_type": "stream",
     "text": [
      "Epoch [6/8] Train: 100%|████████████████| 92/92 [01:55<00:00,  1.25s/batch, acc=1.0000, loss=0.0741]\n"
     ]
    },
    {
     "name": "stdout",
     "output_type": "stream",
     "text": [
      "Train Summary — Loss: 0.0741, Acc: 1.0000\n"
     ]
    },
    {
     "name": "stderr",
     "output_type": "stream",
     "text": [
      "Eval: 100%|██████████████████████████████████████████| 23/23 [00:43<00:00,  1.89s/batch, acc=0.9158]\n"
     ]
    },
    {
     "name": "stdout",
     "output_type": "stream",
     "text": [
      "Eval Summary — Acc: 0.9158\n",
      "Epoch 6/8  Val Acc: 0.9158\n"
     ]
    },
    {
     "name": "stderr",
     "output_type": "stream",
     "text": [
      "Epoch [7/8] Train: 100%|████████████████| 92/92 [01:54<00:00,  1.24s/batch, acc=1.0000, loss=0.0704]\n"
     ]
    },
    {
     "name": "stdout",
     "output_type": "stream",
     "text": [
      "Train Summary — Loss: 0.0704, Acc: 1.0000\n"
     ]
    },
    {
     "name": "stderr",
     "output_type": "stream",
     "text": [
      "Eval: 100%|██████████████████████████████████████████| 23/23 [00:43<00:00,  1.90s/batch, acc=0.9198]\n"
     ]
    },
    {
     "name": "stdout",
     "output_type": "stream",
     "text": [
      "Eval Summary — Acc: 0.9198\n",
      "Epoch 7/8  Val Acc: 0.9198\n"
     ]
    },
    {
     "name": "stderr",
     "output_type": "stream",
     "text": [
      "Epoch [8/8] Train: 100%|████████████████| 92/92 [01:54<00:00,  1.24s/batch, acc=1.0000, loss=0.0697]\n"
     ]
    },
    {
     "name": "stdout",
     "output_type": "stream",
     "text": [
      "Train Summary — Loss: 0.0697, Acc: 1.0000\n"
     ]
    },
    {
     "name": "stderr",
     "output_type": "stream",
     "text": [
      "Eval: 100%|██████████████████████████████████████████| 23/23 [00:43<00:00,  1.90s/batch, acc=0.9158]\n"
     ]
    },
    {
     "name": "stdout",
     "output_type": "stream",
     "text": [
      "Eval Summary — Acc: 0.9158\n",
      "Epoch 8/8  Val Acc: 0.9158\n"
     ]
    },
    {
     "name": "stderr",
     "output_type": "stream",
     "text": [
      "Eval: 100%|██████████████████████████████████████████| 23/23 [00:43<00:00,  1.88s/batch, acc=0.9158]\n"
     ]
    },
    {
     "name": "stdout",
     "output_type": "stream",
     "text": [
      "Eval Summary — Acc: 0.9158\n",
      "\n",
      "### Fine-tuning last 2 block(s) + fc ###\n"
     ]
    },
    {
     "name": "stderr",
     "output_type": "stream",
     "text": [
      "Epoch [1/8] Train: 100%|████████████████| 92/92 [02:08<00:00,  1.40s/batch, acc=0.6226, loss=1.7417]\n"
     ]
    },
    {
     "name": "stdout",
     "output_type": "stream",
     "text": [
      "Train Summary — Loss: 1.7417, Acc: 0.6226\n"
     ]
    },
    {
     "name": "stderr",
     "output_type": "stream",
     "text": [
      "Eval: 100%|██████████████████████████████████████████| 23/23 [00:43<00:00,  1.89s/batch, acc=0.8668]\n"
     ]
    },
    {
     "name": "stdout",
     "output_type": "stream",
     "text": [
      "Eval Summary — Acc: 0.8668\n",
      "Epoch 1/8  Val Acc: 0.8668\n"
     ]
    },
    {
     "name": "stderr",
     "output_type": "stream",
     "text": [
      "Epoch [2/8] Train: 100%|████████████████| 92/92 [02:06<00:00,  1.37s/batch, acc=0.9395, loss=0.4703]\n"
     ]
    },
    {
     "name": "stdout",
     "output_type": "stream",
     "text": [
      "Train Summary — Loss: 0.4703, Acc: 0.9395\n"
     ]
    },
    {
     "name": "stderr",
     "output_type": "stream",
     "text": [
      "Eval: 100%|██████████████████████████████████████████| 23/23 [00:43<00:00,  1.89s/batch, acc=0.8940]\n"
     ]
    },
    {
     "name": "stdout",
     "output_type": "stream",
     "text": [
      "Eval Summary — Acc: 0.8940\n",
      "Epoch 2/8  Val Acc: 0.8940\n"
     ]
    },
    {
     "name": "stderr",
     "output_type": "stream",
     "text": [
      "Epoch [3/8] Train: 100%|████████████████| 92/92 [02:06<00:00,  1.37s/batch, acc=0.9844, loss=0.2084]\n"
     ]
    },
    {
     "name": "stdout",
     "output_type": "stream",
     "text": [
      "Train Summary — Loss: 0.2084, Acc: 0.9844\n"
     ]
    },
    {
     "name": "stderr",
     "output_type": "stream",
     "text": [
      "Eval: 100%|██████████████████████████████████████████| 23/23 [00:43<00:00,  1.90s/batch, acc=0.8954]\n"
     ]
    },
    {
     "name": "stdout",
     "output_type": "stream",
     "text": [
      "Eval Summary — Acc: 0.8954\n",
      "Epoch 3/8  Val Acc: 0.8954\n"
     ]
    },
    {
     "name": "stderr",
     "output_type": "stream",
     "text": [
      "Epoch [4/8] Train: 100%|████████████████| 92/92 [02:08<00:00,  1.40s/batch, acc=0.9980, loss=0.1048]\n"
     ]
    },
    {
     "name": "stdout",
     "output_type": "stream",
     "text": [
      "Train Summary — Loss: 0.1048, Acc: 0.9980\n"
     ]
    },
    {
     "name": "stderr",
     "output_type": "stream",
     "text": [
      "Eval: 100%|██████████████████████████████████████████| 23/23 [00:45<00:00,  1.96s/batch, acc=0.9117]\n"
     ]
    },
    {
     "name": "stdout",
     "output_type": "stream",
     "text": [
      "Eval Summary — Acc: 0.9117\n",
      "Epoch 4/8  Val Acc: 0.9117\n"
     ]
    },
    {
     "name": "stderr",
     "output_type": "stream",
     "text": [
      "Epoch [5/8] Train: 100%|████████████████| 92/92 [02:11<00:00,  1.43s/batch, acc=0.9997, loss=0.0645]\n"
     ]
    },
    {
     "name": "stdout",
     "output_type": "stream",
     "text": [
      "Train Summary — Loss: 0.0645, Acc: 0.9997\n"
     ]
    },
    {
     "name": "stderr",
     "output_type": "stream",
     "text": [
      "Eval: 100%|██████████████████████████████████████████| 23/23 [00:43<00:00,  1.89s/batch, acc=0.9158]\n"
     ]
    },
    {
     "name": "stdout",
     "output_type": "stream",
     "text": [
      "Eval Summary — Acc: 0.9158\n",
      "Epoch 5/8  Val Acc: 0.9158\n"
     ]
    },
    {
     "name": "stderr",
     "output_type": "stream",
     "text": [
      "Epoch [6/8] Train: 100%|████████████████| 92/92 [02:07<00:00,  1.38s/batch, acc=1.0000, loss=0.0455]\n"
     ]
    },
    {
     "name": "stdout",
     "output_type": "stream",
     "text": [
      "Train Summary — Loss: 0.0455, Acc: 1.0000\n"
     ]
    },
    {
     "name": "stderr",
     "output_type": "stream",
     "text": [
      "Eval: 100%|██████████████████████████████████████████| 23/23 [00:43<00:00,  1.89s/batch, acc=0.9226]\n"
     ]
    },
    {
     "name": "stdout",
     "output_type": "stream",
     "text": [
      "Eval Summary — Acc: 0.9226\n",
      "Epoch 6/8  Val Acc: 0.9226\n"
     ]
    },
    {
     "name": "stderr",
     "output_type": "stream",
     "text": [
      "Epoch [7/8] Train: 100%|████████████████| 92/92 [02:10<00:00,  1.41s/batch, acc=1.0000, loss=0.0435]\n"
     ]
    },
    {
     "name": "stdout",
     "output_type": "stream",
     "text": [
      "Train Summary — Loss: 0.0435, Acc: 1.0000\n"
     ]
    },
    {
     "name": "stderr",
     "output_type": "stream",
     "text": [
      "Eval: 100%|██████████████████████████████████████████| 23/23 [00:43<00:00,  1.90s/batch, acc=0.9171]\n"
     ]
    },
    {
     "name": "stdout",
     "output_type": "stream",
     "text": [
      "Eval Summary — Acc: 0.9171\n",
      "Epoch 7/8  Val Acc: 0.9171\n"
     ]
    },
    {
     "name": "stderr",
     "output_type": "stream",
     "text": [
      "Epoch [8/8] Train: 100%|████████████████| 92/92 [02:07<00:00,  1.38s/batch, acc=1.0000, loss=0.0401]\n"
     ]
    },
    {
     "name": "stdout",
     "output_type": "stream",
     "text": [
      "Train Summary — Loss: 0.0401, Acc: 1.0000\n"
     ]
    },
    {
     "name": "stderr",
     "output_type": "stream",
     "text": [
      "Eval: 100%|██████████████████████████████████████████| 23/23 [00:43<00:00,  1.90s/batch, acc=0.9198]\n"
     ]
    },
    {
     "name": "stdout",
     "output_type": "stream",
     "text": [
      "Eval Summary — Acc: 0.9198\n",
      "Epoch 8/8  Val Acc: 0.9198\n"
     ]
    },
    {
     "name": "stderr",
     "output_type": "stream",
     "text": [
      "Eval: 100%|██████████████████████████████████████████| 23/23 [00:43<00:00,  1.89s/batch, acc=0.9198]\n"
     ]
    },
    {
     "name": "stdout",
     "output_type": "stream",
     "text": [
      "Eval Summary — Acc: 0.9198\n",
      "\n",
      "### Fine-tuning last 3 block(s) + fc ###\n"
     ]
    },
    {
     "name": "stderr",
     "output_type": "stream",
     "text": [
      "Epoch [1/8] Train: 100%|████████████████| 92/92 [02:31<00:00,  1.65s/batch, acc=0.6372, loss=1.6653]\n"
     ]
    },
    {
     "name": "stdout",
     "output_type": "stream",
     "text": [
      "Train Summary — Loss: 1.6653, Acc: 0.6372\n"
     ]
    },
    {
     "name": "stderr",
     "output_type": "stream",
     "text": [
      "Eval: 100%|██████████████████████████████████████████| 23/23 [00:43<00:00,  1.88s/batch, acc=0.8614]\n"
     ]
    },
    {
     "name": "stdout",
     "output_type": "stream",
     "text": [
      "Eval Summary — Acc: 0.8614\n",
      "Epoch 1/8  Val Acc: 0.8614\n"
     ]
    },
    {
     "name": "stderr",
     "output_type": "stream",
     "text": [
      "Epoch [2/8] Train: 100%|████████████████| 92/92 [02:31<00:00,  1.65s/batch, acc=0.9440, loss=0.4349]\n"
     ]
    },
    {
     "name": "stdout",
     "output_type": "stream",
     "text": [
      "Train Summary — Loss: 0.4349, Acc: 0.9440\n"
     ]
    },
    {
     "name": "stderr",
     "output_type": "stream",
     "text": [
      "Eval: 100%|██████████████████████████████████████████| 23/23 [00:43<00:00,  1.89s/batch, acc=0.8818]\n"
     ]
    },
    {
     "name": "stdout",
     "output_type": "stream",
     "text": [
      "Eval Summary — Acc: 0.8818\n",
      "Epoch 2/8  Val Acc: 0.8818\n"
     ]
    },
    {
     "name": "stderr",
     "output_type": "stream",
     "text": [
      "Epoch [3/8] Train: 100%|████████████████| 92/92 [02:30<00:00,  1.63s/batch, acc=0.9939, loss=0.1770]\n"
     ]
    },
    {
     "name": "stdout",
     "output_type": "stream",
     "text": [
      "Train Summary — Loss: 0.1770, Acc: 0.9939\n"
     ]
    },
    {
     "name": "stderr",
     "output_type": "stream",
     "text": [
      "Eval: 100%|██████████████████████████████████████████| 23/23 [00:43<00:00,  1.90s/batch, acc=0.8940]\n"
     ]
    },
    {
     "name": "stdout",
     "output_type": "stream",
     "text": [
      "Eval Summary — Acc: 0.8940\n",
      "Epoch 3/8  Val Acc: 0.8940\n"
     ]
    },
    {
     "name": "stderr",
     "output_type": "stream",
     "text": [
      "Epoch [4/8] Train: 100%|████████████████| 92/92 [02:28<00:00,  1.61s/batch, acc=1.0000, loss=0.0877]\n"
     ]
    },
    {
     "name": "stdout",
     "output_type": "stream",
     "text": [
      "Train Summary — Loss: 0.0877, Acc: 1.0000\n"
     ]
    },
    {
     "name": "stderr",
     "output_type": "stream",
     "text": [
      "Eval: 100%|██████████████████████████████████████████| 23/23 [00:43<00:00,  1.91s/batch, acc=0.9158]\n"
     ]
    },
    {
     "name": "stdout",
     "output_type": "stream",
     "text": [
      "Eval Summary — Acc: 0.9158\n",
      "Epoch 4/8  Val Acc: 0.9158\n"
     ]
    },
    {
     "name": "stderr",
     "output_type": "stream",
     "text": [
      "Epoch [5/8] Train: 100%|████████████████| 92/92 [02:28<00:00,  1.61s/batch, acc=1.0000, loss=0.0530]\n"
     ]
    },
    {
     "name": "stdout",
     "output_type": "stream",
     "text": [
      "Train Summary — Loss: 0.0530, Acc: 1.0000\n"
     ]
    },
    {
     "name": "stderr",
     "output_type": "stream",
     "text": [
      "Eval: 100%|██████████████████████████████████████████| 23/23 [00:43<00:00,  1.89s/batch, acc=0.9130]\n"
     ]
    },
    {
     "name": "stdout",
     "output_type": "stream",
     "text": [
      "Eval Summary — Acc: 0.9130\n",
      "Epoch 5/8  Val Acc: 0.9130\n"
     ]
    },
    {
     "name": "stderr",
     "output_type": "stream",
     "text": [
      "Epoch [6/8] Train: 100%|████████████████| 92/92 [02:28<00:00,  1.61s/batch, acc=1.0000, loss=0.0400]\n"
     ]
    },
    {
     "name": "stdout",
     "output_type": "stream",
     "text": [
      "Train Summary — Loss: 0.0400, Acc: 1.0000\n"
     ]
    },
    {
     "name": "stderr",
     "output_type": "stream",
     "text": [
      "Eval: 100%|██████████████████████████████████████████| 23/23 [00:43<00:00,  1.90s/batch, acc=0.9198]\n"
     ]
    },
    {
     "name": "stdout",
     "output_type": "stream",
     "text": [
      "Eval Summary — Acc: 0.9198\n",
      "Epoch 6/8  Val Acc: 0.9198\n"
     ]
    },
    {
     "name": "stderr",
     "output_type": "stream",
     "text": [
      "Epoch [7/8] Train: 100%|████████████████| 92/92 [02:27<00:00,  1.60s/batch, acc=1.0000, loss=0.0405]\n"
     ]
    },
    {
     "name": "stdout",
     "output_type": "stream",
     "text": [
      "Train Summary — Loss: 0.0405, Acc: 1.0000\n"
     ]
    },
    {
     "name": "stderr",
     "output_type": "stream",
     "text": [
      "Eval: 100%|██████████████████████████████████████████| 23/23 [00:43<00:00,  1.90s/batch, acc=0.9171]\n"
     ]
    },
    {
     "name": "stdout",
     "output_type": "stream",
     "text": [
      "Eval Summary — Acc: 0.9171\n",
      "Epoch 7/8  Val Acc: 0.9171\n"
     ]
    },
    {
     "name": "stderr",
     "output_type": "stream",
     "text": [
      "Epoch [8/8] Train: 100%|████████████████| 92/92 [02:30<00:00,  1.64s/batch, acc=1.0000, loss=0.0380]\n"
     ]
    },
    {
     "name": "stdout",
     "output_type": "stream",
     "text": [
      "Train Summary — Loss: 0.0380, Acc: 1.0000\n"
     ]
    },
    {
     "name": "stderr",
     "output_type": "stream",
     "text": [
      "Eval: 100%|██████████████████████████████████████████| 23/23 [00:43<00:00,  1.90s/batch, acc=0.9198]\n"
     ]
    },
    {
     "name": "stdout",
     "output_type": "stream",
     "text": [
      "Eval Summary — Acc: 0.9198\n",
      "Epoch 8/8  Val Acc: 0.9198\n"
     ]
    },
    {
     "name": "stderr",
     "output_type": "stream",
     "text": [
      "Eval: 100%|██████████████████████████████████████████| 23/23 [00:43<00:00,  1.90s/batch, acc=0.9198]\n"
     ]
    },
    {
     "name": "stdout",
     "output_type": "stream",
     "text": [
      "Eval Summary — Acc: 0.9198\n",
      "\n",
      "### Fine-tuning last 4 block(s) + fc ###\n"
     ]
    },
    {
     "name": "stderr",
     "output_type": "stream",
     "text": [
      "Epoch [1/8] Train: 100%|████████████████| 92/92 [03:06<00:00,  2.03s/batch, acc=0.6240, loss=1.7172]\n"
     ]
    },
    {
     "name": "stdout",
     "output_type": "stream",
     "text": [
      "Train Summary — Loss: 1.7172, Acc: 0.6240\n"
     ]
    },
    {
     "name": "stderr",
     "output_type": "stream",
     "text": [
      "Eval: 100%|██████████████████████████████████████████| 23/23 [00:43<00:00,  1.89s/batch, acc=0.8628]\n"
     ]
    },
    {
     "name": "stdout",
     "output_type": "stream",
     "text": [
      "Eval Summary — Acc: 0.8628\n",
      "Epoch 1/8  Val Acc: 0.8628\n"
     ]
    },
    {
     "name": "stderr",
     "output_type": "stream",
     "text": [
      "Epoch [2/8] Train: 100%|████████████████| 92/92 [03:04<00:00,  2.01s/batch, acc=0.9375, loss=0.4557]\n"
     ]
    },
    {
     "name": "stdout",
     "output_type": "stream",
     "text": [
      "Train Summary — Loss: 0.4557, Acc: 0.9375\n"
     ]
    },
    {
     "name": "stderr",
     "output_type": "stream",
     "text": [
      "Eval: 100%|██████████████████████████████████████████| 23/23 [00:43<00:00,  1.90s/batch, acc=0.8804]\n"
     ]
    },
    {
     "name": "stdout",
     "output_type": "stream",
     "text": [
      "Eval Summary — Acc: 0.8804\n",
      "Epoch 2/8  Val Acc: 0.8804\n"
     ]
    },
    {
     "name": "stderr",
     "output_type": "stream",
     "text": [
      "Epoch [3/8] Train: 100%|████████████████| 92/92 [03:04<00:00,  2.01s/batch, acc=0.9918, loss=0.1784]\n"
     ]
    },
    {
     "name": "stdout",
     "output_type": "stream",
     "text": [
      "Train Summary — Loss: 0.1784, Acc: 0.9918\n"
     ]
    },
    {
     "name": "stderr",
     "output_type": "stream",
     "text": [
      "Eval: 100%|██████████████████████████████████████████| 23/23 [00:43<00:00,  1.90s/batch, acc=0.9022]\n"
     ]
    },
    {
     "name": "stdout",
     "output_type": "stream",
     "text": [
      "Eval Summary — Acc: 0.9022\n",
      "Epoch 3/8  Val Acc: 0.9022\n"
     ]
    },
    {
     "name": "stderr",
     "output_type": "stream",
     "text": [
      "Epoch [4/8] Train: 100%|████████████████| 92/92 [03:04<00:00,  2.00s/batch, acc=0.9990, loss=0.0891]\n"
     ]
    },
    {
     "name": "stdout",
     "output_type": "stream",
     "text": [
      "Train Summary — Loss: 0.0891, Acc: 0.9990\n"
     ]
    },
    {
     "name": "stderr",
     "output_type": "stream",
     "text": [
      "Eval: 100%|██████████████████████████████████████████| 23/23 [00:43<00:00,  1.90s/batch, acc=0.9144]\n"
     ]
    },
    {
     "name": "stdout",
     "output_type": "stream",
     "text": [
      "Eval Summary — Acc: 0.9144\n",
      "Epoch 4/8  Val Acc: 0.9144\n"
     ]
    },
    {
     "name": "stderr",
     "output_type": "stream",
     "text": [
      "Epoch [5/8] Train: 100%|████████████████| 92/92 [03:04<00:00,  2.00s/batch, acc=1.0000, loss=0.0562]\n"
     ]
    },
    {
     "name": "stdout",
     "output_type": "stream",
     "text": [
      "Train Summary — Loss: 0.0562, Acc: 1.0000\n"
     ]
    },
    {
     "name": "stderr",
     "output_type": "stream",
     "text": [
      "Eval: 100%|██████████████████████████████████████████| 23/23 [00:43<00:00,  1.88s/batch, acc=0.9117]\n"
     ]
    },
    {
     "name": "stdout",
     "output_type": "stream",
     "text": [
      "Eval Summary — Acc: 0.9117\n",
      "Epoch 5/8  Val Acc: 0.9117\n"
     ]
    },
    {
     "name": "stderr",
     "output_type": "stream",
     "text": [
      "Epoch [6/8] Train: 100%|████████████████| 92/92 [03:05<00:00,  2.02s/batch, acc=1.0000, loss=0.0403]\n"
     ]
    },
    {
     "name": "stdout",
     "output_type": "stream",
     "text": [
      "Train Summary — Loss: 0.0403, Acc: 1.0000\n"
     ]
    },
    {
     "name": "stderr",
     "output_type": "stream",
     "text": [
      "Eval: 100%|██████████████████████████████████████████| 23/23 [00:43<00:00,  1.89s/batch, acc=0.9158]\n"
     ]
    },
    {
     "name": "stdout",
     "output_type": "stream",
     "text": [
      "Eval Summary — Acc: 0.9158\n",
      "Epoch 6/8  Val Acc: 0.9158\n"
     ]
    },
    {
     "name": "stderr",
     "output_type": "stream",
     "text": [
      "Epoch [7/8] Train: 100%|████████████████| 92/92 [03:03<00:00,  2.00s/batch, acc=1.0000, loss=0.0372]\n"
     ]
    },
    {
     "name": "stdout",
     "output_type": "stream",
     "text": [
      "Train Summary — Loss: 0.0372, Acc: 1.0000\n"
     ]
    },
    {
     "name": "stderr",
     "output_type": "stream",
     "text": [
      "Eval: 100%|██████████████████████████████████████████| 23/23 [00:43<00:00,  1.89s/batch, acc=0.9185]\n"
     ]
    },
    {
     "name": "stdout",
     "output_type": "stream",
     "text": [
      "Eval Summary — Acc: 0.9185\n",
      "Epoch 7/8  Val Acc: 0.9185\n"
     ]
    },
    {
     "name": "stderr",
     "output_type": "stream",
     "text": [
      "Epoch [8/8] Train: 100%|████████████████| 92/92 [03:06<00:00,  2.02s/batch, acc=1.0000, loss=0.0389]\n"
     ]
    },
    {
     "name": "stdout",
     "output_type": "stream",
     "text": [
      "Train Summary — Loss: 0.0389, Acc: 1.0000\n"
     ]
    },
    {
     "name": "stderr",
     "output_type": "stream",
     "text": [
      "Eval: 100%|██████████████████████████████████████████| 23/23 [00:44<00:00,  1.92s/batch, acc=0.9144]\n"
     ]
    },
    {
     "name": "stdout",
     "output_type": "stream",
     "text": [
      "Eval Summary — Acc: 0.9144\n",
      "Epoch 8/8  Val Acc: 0.9144\n"
     ]
    },
    {
     "name": "stderr",
     "output_type": "stream",
     "text": [
      "Eval: 100%|██████████████████████████████████████████| 23/23 [00:43<00:00,  1.89s/batch, acc=0.9144]\n"
     ]
    },
    {
     "name": "stdout",
     "output_type": "stream",
     "text": [
      "Eval Summary — Acc: 0.9144\n",
      "\n",
      "### Fine-tuning last 5 block(s) + fc ###\n"
     ]
    },
    {
     "name": "stderr",
     "output_type": "stream",
     "text": [
      "Epoch [1/8] Train: 100%|████████████████| 92/92 [03:08<00:00,  2.05s/batch, acc=0.7147, loss=1.0246]\n"
     ]
    },
    {
     "name": "stdout",
     "output_type": "stream",
     "text": [
      "Train Summary — Loss: 1.0246, Acc: 0.7147\n"
     ]
    },
    {
     "name": "stderr",
     "output_type": "stream",
     "text": [
      "Eval: 100%|██████████████████████████████████████████| 23/23 [00:43<00:00,  1.90s/batch, acc=0.7500]\n"
     ]
    },
    {
     "name": "stdout",
     "output_type": "stream",
     "text": [
      "Eval Summary — Acc: 0.7500\n",
      "Epoch 1/8  Val Acc: 0.7500\n"
     ]
    },
    {
     "name": "stderr",
     "output_type": "stream",
     "text": [
      "Epoch [2/8] Train: 100%|████████████████| 92/92 [03:04<00:00,  2.00s/batch, acc=0.9511, loss=0.1885]\n"
     ]
    },
    {
     "name": "stdout",
     "output_type": "stream",
     "text": [
      "Train Summary — Loss: 0.1885, Acc: 0.9511\n"
     ]
    },
    {
     "name": "stderr",
     "output_type": "stream",
     "text": [
      "Eval: 100%|██████████████████████████████████████████| 23/23 [00:43<00:00,  1.89s/batch, acc=0.8614]\n"
     ]
    },
    {
     "name": "stdout",
     "output_type": "stream",
     "text": [
      "Eval Summary — Acc: 0.8614\n",
      "Epoch 2/8  Val Acc: 0.8614\n"
     ]
    },
    {
     "name": "stderr",
     "output_type": "stream",
     "text": [
      "Epoch [3/8] Train: 100%|████████████████| 92/92 [03:04<00:00,  2.01s/batch, acc=0.9908, loss=0.0502]\n"
     ]
    },
    {
     "name": "stdout",
     "output_type": "stream",
     "text": [
      "Train Summary — Loss: 0.0502, Acc: 0.9908\n"
     ]
    },
    {
     "name": "stderr",
     "output_type": "stream",
     "text": [
      "Eval: 100%|██████████████████████████████████████████| 23/23 [00:43<00:00,  1.90s/batch, acc=0.9022]\n"
     ]
    },
    {
     "name": "stdout",
     "output_type": "stream",
     "text": [
      "Eval Summary — Acc: 0.9022\n",
      "Epoch 3/8  Val Acc: 0.9022\n"
     ]
    },
    {
     "name": "stderr",
     "output_type": "stream",
     "text": [
      "Epoch [4/8] Train: 100%|████████████████| 92/92 [03:03<00:00,  2.00s/batch, acc=0.9973, loss=0.0183]\n"
     ]
    },
    {
     "name": "stdout",
     "output_type": "stream",
     "text": [
      "Train Summary — Loss: 0.0183, Acc: 0.9973\n"
     ]
    },
    {
     "name": "stderr",
     "output_type": "stream",
     "text": [
      "Eval: 100%|██████████████████████████████████████████| 23/23 [00:43<00:00,  1.89s/batch, acc=0.9253]\n"
     ]
    },
    {
     "name": "stdout",
     "output_type": "stream",
     "text": [
      "Eval Summary — Acc: 0.9253\n",
      "Epoch 4/8  Val Acc: 0.9253\n"
     ]
    },
    {
     "name": "stderr",
     "output_type": "stream",
     "text": [
      "Epoch [5/8] Train: 100%|████████████████| 92/92 [03:04<00:00,  2.00s/batch, acc=0.9986, loss=0.0117]\n"
     ]
    },
    {
     "name": "stdout",
     "output_type": "stream",
     "text": [
      "Train Summary — Loss: 0.0117, Acc: 0.9986\n"
     ]
    },
    {
     "name": "stderr",
     "output_type": "stream",
     "text": [
      "Eval: 100%|██████████████████████████████████████████| 23/23 [00:43<00:00,  1.90s/batch, acc=0.9253]\n"
     ]
    },
    {
     "name": "stdout",
     "output_type": "stream",
     "text": [
      "Eval Summary — Acc: 0.9253\n",
      "Epoch 5/8  Val Acc: 0.9253\n"
     ]
    },
    {
     "name": "stderr",
     "output_type": "stream",
     "text": [
      "Epoch [6/8] Train: 100%|████████████████| 92/92 [03:09<00:00,  2.06s/batch, acc=1.0000, loss=0.0071]\n"
     ]
    },
    {
     "name": "stdout",
     "output_type": "stream",
     "text": [
      "Train Summary — Loss: 0.0071, Acc: 1.0000\n"
     ]
    },
    {
     "name": "stderr",
     "output_type": "stream",
     "text": [
      "Eval: 100%|██████████████████████████████████████████| 23/23 [00:43<00:00,  1.88s/batch, acc=0.9266]\n"
     ]
    },
    {
     "name": "stdout",
     "output_type": "stream",
     "text": [
      "Eval Summary — Acc: 0.9266\n",
      "Epoch 6/8  Val Acc: 0.9266\n"
     ]
    },
    {
     "name": "stderr",
     "output_type": "stream",
     "text": [
      "Epoch [7/8] Train: 100%|████████████████| 92/92 [03:04<00:00,  2.00s/batch, acc=1.0000, loss=0.0055]\n"
     ]
    },
    {
     "name": "stdout",
     "output_type": "stream",
     "text": [
      "Train Summary — Loss: 0.0055, Acc: 1.0000\n"
     ]
    },
    {
     "name": "stderr",
     "output_type": "stream",
     "text": [
      "Eval: 100%|██████████████████████████████████████████| 23/23 [00:43<00:00,  1.89s/batch, acc=0.9266]\n"
     ]
    },
    {
     "name": "stdout",
     "output_type": "stream",
     "text": [
      "Eval Summary — Acc: 0.9266\n",
      "Epoch 7/8  Val Acc: 0.9266\n"
     ]
    },
    {
     "name": "stderr",
     "output_type": "stream",
     "text": [
      "Epoch [8/8] Train: 100%|████████████████| 92/92 [03:04<00:00,  2.00s/batch, acc=1.0000, loss=0.0055]\n"
     ]
    },
    {
     "name": "stdout",
     "output_type": "stream",
     "text": [
      "Train Summary — Loss: 0.0055, Acc: 1.0000\n"
     ]
    },
    {
     "name": "stderr",
     "output_type": "stream",
     "text": [
      "Eval: 100%|██████████████████████████████████████████| 23/23 [00:43<00:00,  1.89s/batch, acc=0.9266]\n"
     ]
    },
    {
     "name": "stdout",
     "output_type": "stream",
     "text": [
      "Eval Summary — Acc: 0.9266\n",
      "Epoch 8/8  Val Acc: 0.9266\n"
     ]
    },
    {
     "name": "stderr",
     "output_type": "stream",
     "text": [
      "Eval: 100%|██████████████████████████████████████████| 23/23 [00:43<00:00,  1.89s/batch, acc=0.9266]"
     ]
    },
    {
     "name": "stdout",
     "output_type": "stream",
     "text": [
      "Eval Summary — Acc: 0.9266\n",
      "\n",
      "=== Summary of validation accuracies ===\n",
      "l=1: 0.9158\n",
      "l=2: 0.9198\n",
      "l=3: 0.9198\n",
      "l=4: 0.9144\n",
      "l=5: 0.9266\n"
     ]
    },
    {
     "name": "stderr",
     "output_type": "stream",
     "text": [
      "\n"
     ]
    }
   ],
   "source": [
    "# CELL FOUR.1: sweep over l = 1 to 5 blocks\n",
    "results = {}\n",
    "for l in range(1, 6):\n",
    "    print(f\"\\n### Fine-tuning last {l} block(s) + fc ###\")\n",
    "    model = build_model().to(device)\n",
    "    set_fine_tune_layers(model, l)\n",
    "    params = filter(lambda p: p.requires_grad, model.parameters())\n",
    "    optimizer = optim.SGD(params, lr=0.01, momentum=0.9,\n",
    "                          weight_decay=1e-4, nesterov=True)\n",
    "    scheduler = optim.lr_scheduler.StepLR(optimizer, step_size=5, gamma=0.1)\n",
    "\n",
    "    epochs = 8\n",
    "    for epoch in range(1, epochs+1):\n",
    "        train_loss, train_acc = train_one_epoch(model, train_loader, optimizer, epoch, epochs)\n",
    "        val_acc = evaluate(model, val_loader)\n",
    "        print(f\"Epoch {epoch}/{epochs}  Val Acc: {val_acc:.4f}\")\n",
    "        scheduler.step()\n",
    "\n",
    "    final_val = evaluate(model, val_loader)\n",
    "    results[f\"l={l}\"] = final_val\n",
    "\n",
    "print(\"\\n=== Summary of validation accuracies ===\")\n",
    "for k, v in results.items():\n",
    "    print(f\"{k}: {v:.4f}\")"
   ]
  },
  {
   "cell_type": "code",
   "execution_count": 22,
   "id": "bba8d369-5af9-44bb-8354-171701403fb8",
   "metadata": {
    "scrolled": true
   },
   "outputs": [
    {
     "name": "stdout",
     "output_type": "stream",
     "text": [
      "\n",
      "### Fine-tuning last 6 block(s) + fc ###\n"
     ]
    },
    {
     "name": "stderr",
     "output_type": "stream",
     "text": [
      "Epoch [1/8] Train: 100%|████████████████| 92/92 [03:05<00:00,  2.01s/batch, acc=0.7167, loss=1.0214]\n"
     ]
    },
    {
     "name": "stdout",
     "output_type": "stream",
     "text": [
      "Train Summary — Loss: 1.0214, Acc: 0.7167\n"
     ]
    },
    {
     "name": "stderr",
     "output_type": "stream",
     "text": [
      "Eval: 100%|██████████████████████████████████████████| 23/23 [00:43<00:00,  1.89s/batch, acc=0.8030]\n"
     ]
    },
    {
     "name": "stdout",
     "output_type": "stream",
     "text": [
      "Eval Summary — Acc: 0.8030\n",
      "Epoch 1/8  Val Acc: 0.8030\n"
     ]
    },
    {
     "name": "stderr",
     "output_type": "stream",
     "text": [
      "Epoch [2/8] Train: 100%|████████████████| 92/92 [03:06<00:00,  2.03s/batch, acc=0.9535, loss=0.1772]\n"
     ]
    },
    {
     "name": "stdout",
     "output_type": "stream",
     "text": [
      "Train Summary — Loss: 0.1772, Acc: 0.9535\n"
     ]
    },
    {
     "name": "stderr",
     "output_type": "stream",
     "text": [
      "Eval: 100%|██████████████████████████████████████████| 23/23 [00:44<00:00,  1.94s/batch, acc=0.8573]\n"
     ]
    },
    {
     "name": "stdout",
     "output_type": "stream",
     "text": [
      "Eval Summary — Acc: 0.8573\n",
      "Epoch 2/8  Val Acc: 0.8573\n"
     ]
    },
    {
     "name": "stderr",
     "output_type": "stream",
     "text": [
      "Epoch [3/8] Train: 100%|████████████████| 92/92 [03:54<00:00,  2.55s/batch, acc=0.9885, loss=0.0584]\n"
     ]
    },
    {
     "name": "stdout",
     "output_type": "stream",
     "text": [
      "Train Summary — Loss: 0.0584, Acc: 0.9885\n"
     ]
    },
    {
     "name": "stderr",
     "output_type": "stream",
     "text": [
      "Eval: 100%|██████████████████████████████████████████| 23/23 [00:44<00:00,  1.94s/batch, acc=0.8804]\n"
     ]
    },
    {
     "name": "stdout",
     "output_type": "stream",
     "text": [
      "Eval Summary — Acc: 0.8804\n",
      "Epoch 3/8  Val Acc: 0.8804\n"
     ]
    },
    {
     "name": "stderr",
     "output_type": "stream",
     "text": [
      "Epoch [4/8] Train: 100%|████████████████| 92/92 [03:21<00:00,  2.19s/batch, acc=0.9969, loss=0.0197]\n"
     ]
    },
    {
     "name": "stdout",
     "output_type": "stream",
     "text": [
      "Train Summary — Loss: 0.0197, Acc: 0.9969\n"
     ]
    },
    {
     "name": "stderr",
     "output_type": "stream",
     "text": [
      "Eval: 100%|██████████████████████████████████████████| 23/23 [00:43<00:00,  1.90s/batch, acc=0.9158]\n"
     ]
    },
    {
     "name": "stdout",
     "output_type": "stream",
     "text": [
      "Eval Summary — Acc: 0.9158\n",
      "Epoch 4/8  Val Acc: 0.9158\n"
     ]
    },
    {
     "name": "stderr",
     "output_type": "stream",
     "text": [
      "Epoch [5/8] Train: 100%|████████████████| 92/92 [03:04<00:00,  2.01s/batch, acc=1.0000, loss=0.0081]\n"
     ]
    },
    {
     "name": "stdout",
     "output_type": "stream",
     "text": [
      "Train Summary — Loss: 0.0081, Acc: 1.0000\n"
     ]
    },
    {
     "name": "stderr",
     "output_type": "stream",
     "text": [
      "Eval: 100%|██████████████████████████████████████████| 23/23 [00:43<00:00,  1.91s/batch, acc=0.9117]\n"
     ]
    },
    {
     "name": "stdout",
     "output_type": "stream",
     "text": [
      "Eval Summary — Acc: 0.9117\n",
      "Epoch 5/8  Val Acc: 0.9117\n"
     ]
    },
    {
     "name": "stderr",
     "output_type": "stream",
     "text": [
      "Epoch [6/8] Train: 100%|████████████████| 92/92 [03:07<00:00,  2.03s/batch, acc=1.0000, loss=0.0052]\n"
     ]
    },
    {
     "name": "stdout",
     "output_type": "stream",
     "text": [
      "Train Summary — Loss: 0.0052, Acc: 1.0000\n"
     ]
    },
    {
     "name": "stderr",
     "output_type": "stream",
     "text": [
      "Eval: 100%|██████████████████████████████████████████| 23/23 [00:43<00:00,  1.89s/batch, acc=0.9090]\n"
     ]
    },
    {
     "name": "stdout",
     "output_type": "stream",
     "text": [
      "Eval Summary — Acc: 0.9090\n",
      "Epoch 6/8  Val Acc: 0.9090\n"
     ]
    },
    {
     "name": "stderr",
     "output_type": "stream",
     "text": [
      "Epoch [7/8] Train: 100%|████████████████| 92/92 [03:05<00:00,  2.01s/batch, acc=0.9997, loss=0.0054]\n"
     ]
    },
    {
     "name": "stdout",
     "output_type": "stream",
     "text": [
      "Train Summary — Loss: 0.0054, Acc: 0.9997\n"
     ]
    },
    {
     "name": "stderr",
     "output_type": "stream",
     "text": [
      "Eval: 100%|██████████████████████████████████████████| 23/23 [00:43<00:00,  1.88s/batch, acc=0.9144]\n"
     ]
    },
    {
     "name": "stdout",
     "output_type": "stream",
     "text": [
      "Eval Summary — Acc: 0.9144\n",
      "Epoch 7/8  Val Acc: 0.9144\n"
     ]
    },
    {
     "name": "stderr",
     "output_type": "stream",
     "text": [
      "Epoch [8/8] Train: 100%|████████████████| 92/92 [03:04<00:00,  2.01s/batch, acc=0.9997, loss=0.0051]\n"
     ]
    },
    {
     "name": "stdout",
     "output_type": "stream",
     "text": [
      "Train Summary — Loss: 0.0051, Acc: 0.9997\n"
     ]
    },
    {
     "name": "stderr",
     "output_type": "stream",
     "text": [
      "Eval: 100%|██████████████████████████████████████████| 23/23 [00:43<00:00,  1.89s/batch, acc=0.9171]\n"
     ]
    },
    {
     "name": "stdout",
     "output_type": "stream",
     "text": [
      "Eval Summary — Acc: 0.9171\n",
      "Epoch 8/8  Val Acc: 0.9171\n"
     ]
    },
    {
     "name": "stderr",
     "output_type": "stream",
     "text": [
      "Eval: 100%|██████████████████████████████████████████| 23/23 [00:43<00:00,  1.89s/batch, acc=0.9171]\n"
     ]
    },
    {
     "name": "stdout",
     "output_type": "stream",
     "text": [
      "Eval Summary — Acc: 0.9171\n",
      "\n",
      "### Fine-tuning last 7 block(s) + fc ###\n"
     ]
    },
    {
     "name": "stderr",
     "output_type": "stream",
     "text": [
      "Epoch [1/8] Train: 100%|████████████████| 92/92 [03:04<00:00,  2.00s/batch, acc=0.7099, loss=1.0519]\n"
     ]
    },
    {
     "name": "stdout",
     "output_type": "stream",
     "text": [
      "Train Summary — Loss: 1.0519, Acc: 0.7099\n"
     ]
    },
    {
     "name": "stderr",
     "output_type": "stream",
     "text": [
      "Eval: 100%|██████████████████████████████████████████| 23/23 [00:43<00:00,  1.89s/batch, acc=0.8098]\n"
     ]
    },
    {
     "name": "stdout",
     "output_type": "stream",
     "text": [
      "Eval Summary — Acc: 0.8098\n",
      "Epoch 1/8  Val Acc: 0.8098\n"
     ]
    },
    {
     "name": "stderr",
     "output_type": "stream",
     "text": [
      "Epoch [2/8] Train: 100%|████████████████| 92/92 [03:07<00:00,  2.04s/batch, acc=0.9514, loss=0.1759]\n"
     ]
    },
    {
     "name": "stdout",
     "output_type": "stream",
     "text": [
      "Train Summary — Loss: 0.1759, Acc: 0.9514\n"
     ]
    },
    {
     "name": "stderr",
     "output_type": "stream",
     "text": [
      "Eval: 100%|██████████████████████████████████████████| 23/23 [00:43<00:00,  1.91s/batch, acc=0.8804]\n"
     ]
    },
    {
     "name": "stdout",
     "output_type": "stream",
     "text": [
      "Eval Summary — Acc: 0.8804\n",
      "Epoch 2/8  Val Acc: 0.8804\n"
     ]
    },
    {
     "name": "stderr",
     "output_type": "stream",
     "text": [
      "Epoch [3/8] Train: 100%|████████████████| 92/92 [03:46<00:00,  2.47s/batch, acc=0.9915, loss=0.0504]\n"
     ]
    },
    {
     "name": "stdout",
     "output_type": "stream",
     "text": [
      "Train Summary — Loss: 0.0504, Acc: 0.9915\n"
     ]
    },
    {
     "name": "stderr",
     "output_type": "stream",
     "text": [
      "Eval: 100%|██████████████████████████████████████████| 23/23 [00:44<00:00,  1.92s/batch, acc=0.9090]\n"
     ]
    },
    {
     "name": "stdout",
     "output_type": "stream",
     "text": [
      "Eval Summary — Acc: 0.9090\n",
      "Epoch 3/8  Val Acc: 0.9090\n"
     ]
    },
    {
     "name": "stderr",
     "output_type": "stream",
     "text": [
      "Epoch [4/8] Train: 100%|████████████████| 92/92 [03:13<00:00,  2.10s/batch, acc=0.9973, loss=0.0184]\n"
     ]
    },
    {
     "name": "stdout",
     "output_type": "stream",
     "text": [
      "Train Summary — Loss: 0.0184, Acc: 0.9973\n"
     ]
    },
    {
     "name": "stderr",
     "output_type": "stream",
     "text": [
      "Eval: 100%|██████████████████████████████████████████| 23/23 [00:43<00:00,  1.90s/batch, acc=0.9158]\n"
     ]
    },
    {
     "name": "stdout",
     "output_type": "stream",
     "text": [
      "Eval Summary — Acc: 0.9158\n",
      "Epoch 4/8  Val Acc: 0.9158\n"
     ]
    },
    {
     "name": "stderr",
     "output_type": "stream",
     "text": [
      "Epoch [5/8] Train: 100%|████████████████| 92/92 [03:19<00:00,  2.17s/batch, acc=0.9993, loss=0.0091]\n"
     ]
    },
    {
     "name": "stdout",
     "output_type": "stream",
     "text": [
      "Train Summary — Loss: 0.0091, Acc: 0.9993\n"
     ]
    },
    {
     "name": "stderr",
     "output_type": "stream",
     "text": [
      "Eval: 100%|██████████████████████████████████████████| 23/23 [00:43<00:00,  1.90s/batch, acc=0.9239]\n"
     ]
    },
    {
     "name": "stdout",
     "output_type": "stream",
     "text": [
      "Eval Summary — Acc: 0.9239\n",
      "Epoch 5/8  Val Acc: 0.9239\n"
     ]
    },
    {
     "name": "stderr",
     "output_type": "stream",
     "text": [
      "Epoch [6/8] Train: 100%|████████████████| 92/92 [03:04<00:00,  2.01s/batch, acc=1.0000, loss=0.0055]\n"
     ]
    },
    {
     "name": "stdout",
     "output_type": "stream",
     "text": [
      "Train Summary — Loss: 0.0055, Acc: 1.0000\n"
     ]
    },
    {
     "name": "stderr",
     "output_type": "stream",
     "text": [
      "Eval: 100%|██████████████████████████████████████████| 23/23 [00:43<00:00,  1.89s/batch, acc=0.9198]\n"
     ]
    },
    {
     "name": "stdout",
     "output_type": "stream",
     "text": [
      "Eval Summary — Acc: 0.9198\n",
      "Epoch 6/8  Val Acc: 0.9198\n"
     ]
    },
    {
     "name": "stderr",
     "output_type": "stream",
     "text": [
      "Epoch [7/8] Train: 100%|████████████████| 92/92 [03:05<00:00,  2.01s/batch, acc=1.0000, loss=0.0060]\n"
     ]
    },
    {
     "name": "stdout",
     "output_type": "stream",
     "text": [
      "Train Summary — Loss: 0.0060, Acc: 1.0000\n"
     ]
    },
    {
     "name": "stderr",
     "output_type": "stream",
     "text": [
      "Eval: 100%|██████████████████████████████████████████| 23/23 [00:43<00:00,  1.89s/batch, acc=0.9226]\n"
     ]
    },
    {
     "name": "stdout",
     "output_type": "stream",
     "text": [
      "Eval Summary — Acc: 0.9226\n",
      "Epoch 7/8  Val Acc: 0.9226\n"
     ]
    },
    {
     "name": "stderr",
     "output_type": "stream",
     "text": [
      "Epoch [8/8] Train: 100%|████████████████| 92/92 [03:05<00:00,  2.01s/batch, acc=1.0000, loss=0.0050]\n"
     ]
    },
    {
     "name": "stdout",
     "output_type": "stream",
     "text": [
      "Train Summary — Loss: 0.0050, Acc: 1.0000\n"
     ]
    },
    {
     "name": "stderr",
     "output_type": "stream",
     "text": [
      "Eval: 100%|██████████████████████████████████████████| 23/23 [00:43<00:00,  1.88s/batch, acc=0.9293]\n"
     ]
    },
    {
     "name": "stdout",
     "output_type": "stream",
     "text": [
      "Eval Summary — Acc: 0.9293\n",
      "Epoch 8/8  Val Acc: 0.9293\n"
     ]
    },
    {
     "name": "stderr",
     "output_type": "stream",
     "text": [
      "Eval: 100%|██████████████████████████████████████████| 23/23 [00:43<00:00,  1.89s/batch, acc=0.9293]\n"
     ]
    },
    {
     "name": "stdout",
     "output_type": "stream",
     "text": [
      "Eval Summary — Acc: 0.9293\n",
      "\n",
      "### Fine-tuning last 8 block(s) + fc ###\n"
     ]
    },
    {
     "name": "stderr",
     "output_type": "stream",
     "text": [
      "Epoch [1/8] Train: 100%|████████████████| 92/92 [03:04<00:00,  2.01s/batch, acc=0.7157, loss=1.0182]\n"
     ]
    },
    {
     "name": "stdout",
     "output_type": "stream",
     "text": [
      "Train Summary — Loss: 1.0182, Acc: 0.7157\n"
     ]
    },
    {
     "name": "stderr",
     "output_type": "stream",
     "text": [
      "Eval: 100%|██████████████████████████████████████████| 23/23 [00:44<00:00,  1.92s/batch, acc=0.7758]\n"
     ]
    },
    {
     "name": "stdout",
     "output_type": "stream",
     "text": [
      "Eval Summary — Acc: 0.7758\n",
      "Epoch 1/8  Val Acc: 0.7758\n"
     ]
    },
    {
     "name": "stderr",
     "output_type": "stream",
     "text": [
      "Epoch [2/8] Train: 100%|████████████████| 92/92 [03:04<00:00,  2.01s/batch, acc=0.9327, loss=0.2233]\n"
     ]
    },
    {
     "name": "stdout",
     "output_type": "stream",
     "text": [
      "Train Summary — Loss: 0.2233, Acc: 0.9327\n"
     ]
    },
    {
     "name": "stderr",
     "output_type": "stream",
     "text": [
      "Eval: 100%|██████████████████████████████████████████| 23/23 [00:43<00:00,  1.88s/batch, acc=0.8139]\n"
     ]
    },
    {
     "name": "stdout",
     "output_type": "stream",
     "text": [
      "Eval Summary — Acc: 0.8139\n",
      "Epoch 2/8  Val Acc: 0.8139\n"
     ]
    },
    {
     "name": "stderr",
     "output_type": "stream",
     "text": [
      "Epoch [3/8] Train: 100%|████████████████| 92/92 [03:04<00:00,  2.01s/batch, acc=0.9823, loss=0.0726]\n"
     ]
    },
    {
     "name": "stdout",
     "output_type": "stream",
     "text": [
      "Train Summary — Loss: 0.0726, Acc: 0.9823\n"
     ]
    },
    {
     "name": "stderr",
     "output_type": "stream",
     "text": [
      "Eval: 100%|██████████████████████████████████████████| 23/23 [00:42<00:00,  1.87s/batch, acc=0.8967]\n"
     ]
    },
    {
     "name": "stdout",
     "output_type": "stream",
     "text": [
      "Eval Summary — Acc: 0.8967\n",
      "Epoch 3/8  Val Acc: 0.8967\n"
     ]
    },
    {
     "name": "stderr",
     "output_type": "stream",
     "text": [
      "Epoch [4/8] Train: 100%|████████████████| 92/92 [03:19<00:00,  2.17s/batch, acc=0.9986, loss=0.0176]\n"
     ]
    },
    {
     "name": "stdout",
     "output_type": "stream",
     "text": [
      "Train Summary — Loss: 0.0176, Acc: 0.9986\n"
     ]
    },
    {
     "name": "stderr",
     "output_type": "stream",
     "text": [
      "Eval: 100%|██████████████████████████████████████████| 23/23 [00:43<00:00,  1.91s/batch, acc=0.9022]\n"
     ]
    },
    {
     "name": "stdout",
     "output_type": "stream",
     "text": [
      "Eval Summary — Acc: 0.9022\n",
      "Epoch 4/8  Val Acc: 0.9022\n"
     ]
    },
    {
     "name": "stderr",
     "output_type": "stream",
     "text": [
      "Epoch [5/8] Train: 100%|████████████████| 92/92 [03:30<00:00,  2.29s/batch, acc=0.9997, loss=0.0086]\n"
     ]
    },
    {
     "name": "stdout",
     "output_type": "stream",
     "text": [
      "Train Summary — Loss: 0.0086, Acc: 0.9997\n"
     ]
    },
    {
     "name": "stderr",
     "output_type": "stream",
     "text": [
      "Eval: 100%|██████████████████████████████████████████| 23/23 [00:43<00:00,  1.89s/batch, acc=0.9090]\n"
     ]
    },
    {
     "name": "stdout",
     "output_type": "stream",
     "text": [
      "Eval Summary — Acc: 0.9090\n",
      "Epoch 5/8  Val Acc: 0.9090\n"
     ]
    },
    {
     "name": "stderr",
     "output_type": "stream",
     "text": [
      "Epoch [6/8] Train: 100%|████████████████| 92/92 [03:31<00:00,  2.30s/batch, acc=1.0000, loss=0.0059]\n"
     ]
    },
    {
     "name": "stdout",
     "output_type": "stream",
     "text": [
      "Train Summary — Loss: 0.0059, Acc: 1.0000\n"
     ]
    },
    {
     "name": "stderr",
     "output_type": "stream",
     "text": [
      "Eval: 100%|██████████████████████████████████████████| 23/23 [00:43<00:00,  1.89s/batch, acc=0.9144]\n"
     ]
    },
    {
     "name": "stdout",
     "output_type": "stream",
     "text": [
      "Eval Summary — Acc: 0.9144\n",
      "Epoch 6/8  Val Acc: 0.9144\n"
     ]
    },
    {
     "name": "stderr",
     "output_type": "stream",
     "text": [
      "Epoch [7/8] Train: 100%|████████████████| 92/92 [03:28<00:00,  2.26s/batch, acc=1.0000, loss=0.0052]\n"
     ]
    },
    {
     "name": "stdout",
     "output_type": "stream",
     "text": [
      "Train Summary — Loss: 0.0052, Acc: 1.0000\n"
     ]
    },
    {
     "name": "stderr",
     "output_type": "stream",
     "text": [
      "Eval: 100%|██████████████████████████████████████████| 23/23 [00:43<00:00,  1.90s/batch, acc=0.9103]\n"
     ]
    },
    {
     "name": "stdout",
     "output_type": "stream",
     "text": [
      "Eval Summary — Acc: 0.9103\n",
      "Epoch 7/8  Val Acc: 0.9103\n"
     ]
    },
    {
     "name": "stderr",
     "output_type": "stream",
     "text": [
      "Epoch [8/8] Train: 100%|████████████████| 92/92 [03:26<00:00,  2.25s/batch, acc=1.0000, loss=0.0042]\n"
     ]
    },
    {
     "name": "stdout",
     "output_type": "stream",
     "text": [
      "Train Summary — Loss: 0.0042, Acc: 1.0000\n"
     ]
    },
    {
     "name": "stderr",
     "output_type": "stream",
     "text": [
      "Eval: 100%|██████████████████████████████████████████| 23/23 [00:43<00:00,  1.89s/batch, acc=0.9117]\n"
     ]
    },
    {
     "name": "stdout",
     "output_type": "stream",
     "text": [
      "Eval Summary — Acc: 0.9117\n",
      "Epoch 8/8  Val Acc: 0.9117\n"
     ]
    },
    {
     "name": "stderr",
     "output_type": "stream",
     "text": [
      "Eval: 100%|██████████████████████████████████████████| 23/23 [00:43<00:00,  1.88s/batch, acc=0.9117]"
     ]
    },
    {
     "name": "stdout",
     "output_type": "stream",
     "text": [
      "Eval Summary — Acc: 0.9117\n",
      "\n",
      "=== Summary of validation accuracies ===\n",
      "l=6: 0.9171\n",
      "l=7: 0.9293\n",
      "l=8: 0.9117\n"
     ]
    },
    {
     "name": "stderr",
     "output_type": "stream",
     "text": [
      "\n"
     ]
    }
   ],
   "source": [
    "# CELL FOUR.2: sweep over l = 6 to 9 blocks\n",
    "results2 = {}\n",
    "for l in range(6, 9):\n",
    "    print(f\"\\n### Fine-tuning last {l} block(s) + fc ###\")\n",
    "    model = build_model().to(device)\n",
    "    set_fine_tune_layers(model, l)\n",
    "    params = filter(lambda p: p.requires_grad, model.parameters())\n",
    "    optimizer = optim.SGD(params, lr=0.01, momentum=0.9,\n",
    "                          weight_decay=1e-4, nesterov=True)\n",
    "    scheduler = optim.lr_scheduler.StepLR(optimizer, step_size=5, gamma=0.1)\n",
    "\n",
    "    epochs = 8\n",
    "    for epoch in range(1, epochs+1):\n",
    "        train_loss, train_acc = train_one_epoch(model, train_loader, optimizer, epoch, epochs)\n",
    "        val_acc = evaluate(model, val_loader)\n",
    "        print(f\"Epoch {epoch}/{epochs}  Val Acc: {val_acc:.4f}\")\n",
    "        scheduler.step()\n",
    "\n",
    "    final_val = evaluate(model, val_loader)\n",
    "    results2[f\"l={l}\"] = final_val\n",
    "\n",
    "print(\"\\n=== Summary of validation accuracies ===\")\n",
    "for k, v in results2.items():\n",
    "    print(f\"{k}: {v:.4f}\")"
   ]
  },
  {
   "cell_type": "code",
   "execution_count": 24,
   "id": "0ca940cb-6b2b-4fe2-ae88-da5a472c0898",
   "metadata": {},
   "outputs": [
    {
     "name": "stdout",
     "output_type": "stream",
     "text": [
      "Retraining with l* = 7\n"
     ]
    },
    {
     "name": "stderr",
     "output_type": "stream",
     "text": [
      "Epoch [1/8] Train: 100%|██████████████| 115/115 [03:46<00:00,  1.97s/batch, acc=0.7372, loss=0.9340]\n"
     ]
    },
    {
     "name": "stdout",
     "output_type": "stream",
     "text": [
      "Train Summary — Loss: 0.9340, Acc: 0.7372\n"
     ]
    },
    {
     "name": "stderr",
     "output_type": "stream",
     "text": [
      "Epoch [2/8] Train: 100%|██████████████| 115/115 [03:46<00:00,  1.97s/batch, acc=0.9473, loss=0.1897]\n"
     ]
    },
    {
     "name": "stdout",
     "output_type": "stream",
     "text": [
      "Train Summary — Loss: 0.1897, Acc: 0.9473\n"
     ]
    },
    {
     "name": "stderr",
     "output_type": "stream",
     "text": [
      "Epoch [3/8] Train: 100%|██████████████| 115/115 [03:48<00:00,  1.99s/batch, acc=0.9837, loss=0.0681]\n"
     ]
    },
    {
     "name": "stdout",
     "output_type": "stream",
     "text": [
      "Train Summary — Loss: 0.0681, Acc: 0.9837\n"
     ]
    },
    {
     "name": "stderr",
     "output_type": "stream",
     "text": [
      "Epoch [4/8] Train: 100%|██████████████| 115/115 [03:50<00:00,  2.00s/batch, acc=0.9943, loss=0.0309]\n"
     ]
    },
    {
     "name": "stdout",
     "output_type": "stream",
     "text": [
      "Train Summary — Loss: 0.0309, Acc: 0.9943\n"
     ]
    },
    {
     "name": "stderr",
     "output_type": "stream",
     "text": [
      "Epoch [5/8] Train: 100%|██████████████| 115/115 [03:51<00:00,  2.01s/batch, acc=0.9997, loss=0.0105]\n"
     ]
    },
    {
     "name": "stdout",
     "output_type": "stream",
     "text": [
      "Train Summary — Loss: 0.0105, Acc: 0.9997\n"
     ]
    },
    {
     "name": "stderr",
     "output_type": "stream",
     "text": [
      "Epoch [6/8] Train: 100%|██████████████| 115/115 [03:46<00:00,  1.97s/batch, acc=0.9992, loss=0.0076]\n"
     ]
    },
    {
     "name": "stdout",
     "output_type": "stream",
     "text": [
      "Train Summary — Loss: 0.0076, Acc: 0.9992\n"
     ]
    },
    {
     "name": "stderr",
     "output_type": "stream",
     "text": [
      "Epoch [7/8] Train: 100%|██████████████| 115/115 [03:47<00:00,  1.98s/batch, acc=1.0000, loss=0.0047]\n"
     ]
    },
    {
     "name": "stdout",
     "output_type": "stream",
     "text": [
      "Train Summary — Loss: 0.0047, Acc: 1.0000\n"
     ]
    },
    {
     "name": "stderr",
     "output_type": "stream",
     "text": [
      "Epoch [8/8] Train: 100%|██████████████| 115/115 [03:43<00:00,  1.94s/batch, acc=1.0000, loss=0.0041]\n"
     ]
    },
    {
     "name": "stdout",
     "output_type": "stream",
     "text": [
      "Train Summary — Loss: 0.0041, Acc: 1.0000\n"
     ]
    },
    {
     "name": "stderr",
     "output_type": "stream",
     "text": [
      "Eval: 100%|████████████████████████████████████████| 115/115 [01:59<00:00,  1.04s/batch, acc=0.8967]"
     ]
    },
    {
     "name": "stdout",
     "output_type": "stream",
     "text": [
      "Eval Summary — Acc: 0.8967\n",
      "Final test accuracy: 0.8967\n"
     ]
    },
    {
     "name": "stderr",
     "output_type": "stream",
     "text": [
      "\n"
     ]
    }
   ],
   "source": [
    "# CELL FIVE: pick best l, retrain on full train/val, then test\n",
    "best_l1 = max(results, key=lambda k: results[k]) \n",
    "best_l2 = max(results2, key=lambda k: results2[k]) \n",
    "best_l = max(best_l1, best_l2)\n",
    "l_star = int(best_l.split('=')[1])\n",
    "print(f\"Retraining with l* = {l_star}\")\n",
    "\n",
    "# rebuild & freeze/unfreeze\n",
    "model = build_model().to(device)\n",
    "set_fine_tune_layers(model, l_star)\n",
    "\n",
    "# new optimizer + scheduler\n",
    "params    = filter(lambda p: p.requires_grad, model.parameters())\n",
    "optimizer = optim.SGD(params, lr=0.01, momentum=0.9,\n",
    "                      weight_decay=1e-4, nesterov=True)\n",
    "scheduler = optim.lr_scheduler.StepLR(optimizer, step_size=5, gamma=0.1)\n",
    "\n",
    "# full trainval loader\n",
    "full_loader = DataLoader(full_trainval, batch_size=batch_size,\n",
    "                         shuffle=True, num_workers=4)\n",
    "\n",
    "# train for N epochs with proper args to train_one_epoch\n",
    "epochs = 8\n",
    "for epoch in range(1, epochs+1):\n",
    "    train_loss, train_acc = train_one_epoch(\n",
    "        model, full_loader, optimizer,\n",
    "        epoch, epochs\n",
    "    )\n",
    "    scheduler.step()\n",
    "\n",
    "# final evaluation on test set\n",
    "test_acc = evaluate(model, test_loader)\n",
    "print(f\"Final test accuracy: {test_acc:.4f}\")"
   ]
  },
  {
   "cell_type": "markdown",
   "id": "2bbfd6ec-66a5-411f-a2a3-bbf2e3b87306",
   "metadata": {},
   "source": [
    "### Strategy 2: Gradual unfreezing\n",
    "\n",
    "Gradual unfreezing is similar to Strategy 1 in the way that you are performing deeper learning. This works to save your progress when training the separate layers. This theoretically should retain well trained features when classifying, allowing other layers to train separately. \n",
    "\n",
    "```\n",
    "Eval: 100%|████████████████████████████████████████| 115/115 [01:57<00:00,  1.02s/batch, acc=0.8910]\n",
    "Eval Summary — Acc: 0.8910\n",
    "```\n",
    "\n",
    "The model ends up performing on par with Strategy 1. This is because of its similarity to Strategy 1, and likely because there is not much difference when using a small model like ResNet18 (a model where not much detail can be captured, we will switch to a bigger model later)."
   ]
  },
  {
   "cell_type": "code",
   "execution_count": 25,
   "id": "33a7ead4-87e3-410e-b628-5ea76d5ab37d",
   "metadata": {
    "scrolled": true
   },
   "outputs": [
    {
     "name": "stdout",
     "output_type": "stream",
     "text": [
      "\n",
      "--- Phase: unfreeze last 1 block(s) + fc; train 5 epochs ---\n"
     ]
    },
    {
     "name": "stderr",
     "output_type": "stream",
     "text": [
      "Epoch [1/5] Train: 100%|████████████████| 92/92 [01:54<00:00,  1.25s/batch, acc=0.5272, loss=2.2453]\n"
     ]
    },
    {
     "name": "stdout",
     "output_type": "stream",
     "text": [
      "Train Summary — Loss: 2.2453, Acc: 0.5272\n"
     ]
    },
    {
     "name": "stderr",
     "output_type": "stream",
     "text": [
      "Eval: 100%|██████████████████████████████████████████| 23/23 [00:44<00:00,  1.91s/batch, acc=0.7962]\n"
     ]
    },
    {
     "name": "stdout",
     "output_type": "stream",
     "text": [
      "Eval Summary — Acc: 0.7962\n"
     ]
    },
    {
     "name": "stderr",
     "output_type": "stream",
     "text": [
      "Epoch [2/5] Train: 100%|████████████████| 92/92 [01:54<00:00,  1.24s/batch, acc=0.8923, loss=0.8768]\n"
     ]
    },
    {
     "name": "stdout",
     "output_type": "stream",
     "text": [
      "Train Summary — Loss: 0.8768, Acc: 0.8923\n"
     ]
    },
    {
     "name": "stderr",
     "output_type": "stream",
     "text": [
      "Eval: 100%|██████████████████████████████████████████| 23/23 [00:43<00:00,  1.89s/batch, acc=0.8777]\n"
     ]
    },
    {
     "name": "stdout",
     "output_type": "stream",
     "text": [
      "Eval Summary — Acc: 0.8777\n"
     ]
    },
    {
     "name": "stderr",
     "output_type": "stream",
     "text": [
      "Epoch [3/5] Train: 100%|████████████████| 92/92 [01:54<00:00,  1.24s/batch, acc=0.9382, loss=0.6008]\n"
     ]
    },
    {
     "name": "stdout",
     "output_type": "stream",
     "text": [
      "Train Summary — Loss: 0.6008, Acc: 0.9382\n"
     ]
    },
    {
     "name": "stderr",
     "output_type": "stream",
     "text": [
      "Eval: 100%|██████████████████████████████████████████| 23/23 [00:44<00:00,  1.96s/batch, acc=0.8804]\n"
     ]
    },
    {
     "name": "stdout",
     "output_type": "stream",
     "text": [
      "Eval Summary — Acc: 0.8804\n"
     ]
    },
    {
     "name": "stderr",
     "output_type": "stream",
     "text": [
      "Epoch [4/5] Train: 100%|████████████████| 92/92 [01:54<00:00,  1.24s/batch, acc=0.9531, loss=0.5561]\n"
     ]
    },
    {
     "name": "stdout",
     "output_type": "stream",
     "text": [
      "Train Summary — Loss: 0.5561, Acc: 0.9531\n"
     ]
    },
    {
     "name": "stderr",
     "output_type": "stream",
     "text": [
      "Eval: 100%|██████████████████████████████████████████| 23/23 [00:43<00:00,  1.88s/batch, acc=0.8845]\n"
     ]
    },
    {
     "name": "stdout",
     "output_type": "stream",
     "text": [
      "Eval Summary — Acc: 0.8845\n"
     ]
    },
    {
     "name": "stderr",
     "output_type": "stream",
     "text": [
      "Epoch [5/5] Train: 100%|████████████████| 92/92 [01:53<00:00,  1.24s/batch, acc=0.9511, loss=0.5458]\n"
     ]
    },
    {
     "name": "stdout",
     "output_type": "stream",
     "text": [
      "Train Summary — Loss: 0.5458, Acc: 0.9511\n"
     ]
    },
    {
     "name": "stderr",
     "output_type": "stream",
     "text": [
      "Eval: 100%|██████████████████████████████████████████| 23/23 [00:43<00:00,  1.89s/batch, acc=0.8872]\n"
     ]
    },
    {
     "name": "stdout",
     "output_type": "stream",
     "text": [
      "Eval Summary — Acc: 0.8872\n",
      "[End Phase l=1]  Best Val Acc this phase: 0.8872\n",
      "\n",
      "--- Phase: unfreeze last 2 block(s) + fc; train 4 epochs ---\n"
     ]
    },
    {
     "name": "stderr",
     "output_type": "stream",
     "text": [
      "Epoch [1/4] Train: 100%|████████████████| 92/92 [02:07<00:00,  1.39s/batch, acc=0.9480, loss=0.4994]\n"
     ]
    },
    {
     "name": "stdout",
     "output_type": "stream",
     "text": [
      "Train Summary — Loss: 0.4994, Acc: 0.9480\n"
     ]
    },
    {
     "name": "stderr",
     "output_type": "stream",
     "text": [
      "Eval: 100%|██████████████████████████████████████████| 23/23 [00:43<00:00,  1.89s/batch, acc=0.8927]\n"
     ]
    },
    {
     "name": "stdout",
     "output_type": "stream",
     "text": [
      "Eval Summary — Acc: 0.8927\n"
     ]
    },
    {
     "name": "stderr",
     "output_type": "stream",
     "text": [
      "Epoch [2/4] Train: 100%|████████████████| 92/92 [02:06<00:00,  1.37s/batch, acc=0.9813, loss=0.3075]\n"
     ]
    },
    {
     "name": "stdout",
     "output_type": "stream",
     "text": [
      "Train Summary — Loss: 0.3075, Acc: 0.9813\n"
     ]
    },
    {
     "name": "stderr",
     "output_type": "stream",
     "text": [
      "Eval: 100%|██████████████████████████████████████████| 23/23 [00:43<00:00,  1.89s/batch, acc=0.9103]\n"
     ]
    },
    {
     "name": "stdout",
     "output_type": "stream",
     "text": [
      "Eval Summary — Acc: 0.9103\n"
     ]
    },
    {
     "name": "stderr",
     "output_type": "stream",
     "text": [
      "Epoch [3/4] Train: 100%|████████████████| 92/92 [02:05<00:00,  1.37s/batch, acc=0.9946, loss=0.2057]\n"
     ]
    },
    {
     "name": "stdout",
     "output_type": "stream",
     "text": [
      "Train Summary — Loss: 0.2057, Acc: 0.9946\n"
     ]
    },
    {
     "name": "stderr",
     "output_type": "stream",
     "text": [
      "Eval: 100%|██████████████████████████████████████████| 23/23 [00:43<00:00,  1.89s/batch, acc=0.9049]\n"
     ]
    },
    {
     "name": "stdout",
     "output_type": "stream",
     "text": [
      "Eval Summary — Acc: 0.9049\n"
     ]
    },
    {
     "name": "stderr",
     "output_type": "stream",
     "text": [
      "Epoch [4/4] Train: 100%|████████████████| 92/92 [02:06<00:00,  1.37s/batch, acc=0.9963, loss=0.1970]\n"
     ]
    },
    {
     "name": "stdout",
     "output_type": "stream",
     "text": [
      "Train Summary — Loss: 0.1970, Acc: 0.9963\n"
     ]
    },
    {
     "name": "stderr",
     "output_type": "stream",
     "text": [
      "Eval: 100%|██████████████████████████████████████████| 23/23 [00:43<00:00,  1.89s/batch, acc=0.9117]\n"
     ]
    },
    {
     "name": "stdout",
     "output_type": "stream",
     "text": [
      "Eval Summary — Acc: 0.9117\n",
      "[End Phase l=2]  Best Val Acc this phase: 0.9117\n",
      "\n",
      "--- Phase: unfreeze last 3 block(s) + fc; train 3 epochs ---\n"
     ]
    },
    {
     "name": "stderr",
     "output_type": "stream",
     "text": [
      "Epoch [1/3] Train: 100%|████████████████| 92/92 [02:27<00:00,  1.60s/batch, acc=0.9932, loss=0.1888]\n"
     ]
    },
    {
     "name": "stdout",
     "output_type": "stream",
     "text": [
      "Train Summary — Loss: 0.1888, Acc: 0.9932\n"
     ]
    },
    {
     "name": "stderr",
     "output_type": "stream",
     "text": [
      "Eval: 100%|██████████████████████████████████████████| 23/23 [00:43<00:00,  1.88s/batch, acc=0.9035]\n"
     ]
    },
    {
     "name": "stdout",
     "output_type": "stream",
     "text": [
      "Eval Summary — Acc: 0.9035\n"
     ]
    },
    {
     "name": "stderr",
     "output_type": "stream",
     "text": [
      "Epoch [2/3] Train: 100%|████████████████| 92/92 [02:29<00:00,  1.62s/batch, acc=0.9993, loss=0.1302]\n"
     ]
    },
    {
     "name": "stdout",
     "output_type": "stream",
     "text": [
      "Train Summary — Loss: 0.1302, Acc: 0.9993\n"
     ]
    },
    {
     "name": "stderr",
     "output_type": "stream",
     "text": [
      "Eval: 100%|██████████████████████████████████████████| 23/23 [00:43<00:00,  1.91s/batch, acc=0.9158]\n"
     ]
    },
    {
     "name": "stdout",
     "output_type": "stream",
     "text": [
      "Eval Summary — Acc: 0.9158\n"
     ]
    },
    {
     "name": "stderr",
     "output_type": "stream",
     "text": [
      "Epoch [3/3] Train: 100%|████████████████| 92/92 [02:38<00:00,  1.72s/batch, acc=1.0000, loss=0.1238]\n"
     ]
    },
    {
     "name": "stdout",
     "output_type": "stream",
     "text": [
      "Train Summary — Loss: 0.1238, Acc: 1.0000\n"
     ]
    },
    {
     "name": "stderr",
     "output_type": "stream",
     "text": [
      "Eval: 100%|██████████████████████████████████████████| 23/23 [00:43<00:00,  1.90s/batch, acc=0.9144]\n"
     ]
    },
    {
     "name": "stdout",
     "output_type": "stream",
     "text": [
      "Eval Summary — Acc: 0.9144\n",
      "[End Phase l=3]  Best Val Acc this phase: 0.9144\n",
      "\n",
      "--- Phase: unfreeze last 4 block(s) + fc; train 3 epochs ---\n"
     ]
    },
    {
     "name": "stderr",
     "output_type": "stream",
     "text": [
      "Epoch [1/3] Train: 100%|████████████████| 92/92 [03:17<00:00,  2.15s/batch, acc=0.9983, loss=0.1241]\n"
     ]
    },
    {
     "name": "stdout",
     "output_type": "stream",
     "text": [
      "Train Summary — Loss: 0.1241, Acc: 0.9983\n"
     ]
    },
    {
     "name": "stderr",
     "output_type": "stream",
     "text": [
      "Eval: 100%|██████████████████████████████████████████| 23/23 [00:43<00:00,  1.89s/batch, acc=0.9103]\n"
     ]
    },
    {
     "name": "stdout",
     "output_type": "stream",
     "text": [
      "Eval Summary — Acc: 0.9103\n"
     ]
    },
    {
     "name": "stderr",
     "output_type": "stream",
     "text": [
      "Epoch [2/3] Train: 100%|████████████████| 92/92 [03:03<00:00,  2.00s/batch, acc=1.0000, loss=0.0904]\n"
     ]
    },
    {
     "name": "stdout",
     "output_type": "stream",
     "text": [
      "Train Summary — Loss: 0.0904, Acc: 1.0000\n"
     ]
    },
    {
     "name": "stderr",
     "output_type": "stream",
     "text": [
      "Eval: 100%|██████████████████████████████████████████| 23/23 [00:43<00:00,  1.89s/batch, acc=0.9239]\n"
     ]
    },
    {
     "name": "stdout",
     "output_type": "stream",
     "text": [
      "Eval Summary — Acc: 0.9239\n"
     ]
    },
    {
     "name": "stderr",
     "output_type": "stream",
     "text": [
      "Epoch [3/3] Train: 100%|████████████████| 92/92 [03:04<00:00,  2.01s/batch, acc=0.9997, loss=0.0902]\n"
     ]
    },
    {
     "name": "stdout",
     "output_type": "stream",
     "text": [
      "Train Summary — Loss: 0.0902, Acc: 0.9997\n"
     ]
    },
    {
     "name": "stderr",
     "output_type": "stream",
     "text": [
      "Eval: 100%|██████████████████████████████████████████| 23/23 [00:43<00:00,  1.89s/batch, acc=0.9212]\n"
     ]
    },
    {
     "name": "stdout",
     "output_type": "stream",
     "text": [
      "Eval Summary — Acc: 0.9212\n",
      "[End Phase l=4]  Best Val Acc this phase: 0.9212\n",
      "\n",
      "--- Phase: unfreeze last 5 block(s) + fc; train 3 epochs ---\n"
     ]
    },
    {
     "name": "stderr",
     "output_type": "stream",
     "text": [
      "Epoch [1/3] Train: 100%|████████████████| 92/92 [03:02<00:00,  1.99s/batch, acc=1.0000, loss=0.0604]\n"
     ]
    },
    {
     "name": "stdout",
     "output_type": "stream",
     "text": [
      "Train Summary — Loss: 0.0604, Acc: 1.0000\n"
     ]
    },
    {
     "name": "stderr",
     "output_type": "stream",
     "text": [
      "Eval: 100%|██████████████████████████████████████████| 23/23 [00:43<00:00,  1.89s/batch, acc=0.9239]\n"
     ]
    },
    {
     "name": "stdout",
     "output_type": "stream",
     "text": [
      "Eval Summary — Acc: 0.9239\n"
     ]
    },
    {
     "name": "stderr",
     "output_type": "stream",
     "text": [
      "Epoch [2/3] Train: 100%|████████████████| 92/92 [03:06<00:00,  2.02s/batch, acc=1.0000, loss=0.0294]\n"
     ]
    },
    {
     "name": "stdout",
     "output_type": "stream",
     "text": [
      "Train Summary — Loss: 0.0294, Acc: 1.0000\n"
     ]
    },
    {
     "name": "stderr",
     "output_type": "stream",
     "text": [
      "Eval: 100%|██████████████████████████████████████████| 23/23 [00:43<00:00,  1.91s/batch, acc=0.9226]\n"
     ]
    },
    {
     "name": "stdout",
     "output_type": "stream",
     "text": [
      "Eval Summary — Acc: 0.9226\n"
     ]
    },
    {
     "name": "stderr",
     "output_type": "stream",
     "text": [
      "Epoch [3/3] Train: 100%|████████████████| 92/92 [03:04<00:00,  2.00s/batch, acc=1.0000, loss=0.0279]\n"
     ]
    },
    {
     "name": "stdout",
     "output_type": "stream",
     "text": [
      "Train Summary — Loss: 0.0279, Acc: 1.0000\n"
     ]
    },
    {
     "name": "stderr",
     "output_type": "stream",
     "text": [
      "Eval: 100%|██████████████████████████████████████████| 23/23 [00:43<00:00,  1.88s/batch, acc=0.9185]\n"
     ]
    },
    {
     "name": "stdout",
     "output_type": "stream",
     "text": [
      "Eval Summary — Acc: 0.9185\n",
      "[End Phase l=5]  Best Val Acc this phase: 0.9185\n"
     ]
    },
    {
     "name": "stderr",
     "output_type": "stream",
     "text": [
      "Eval: 100%|████████████████████████████████████████| 115/115 [01:57<00:00,  1.02s/batch, acc=0.8910]"
     ]
    },
    {
     "name": "stdout",
     "output_type": "stream",
     "text": [
      "Eval Summary — Acc: 0.8910\n",
      "\n",
      "Final test accuracy after gradual unfreeze: 0.8910\n"
     ]
    },
    {
     "name": "stderr",
     "output_type": "stream",
     "text": [
      "\n"
     ]
    }
   ],
   "source": [
    "# CELL ONE: Gradual unfreezing\n",
    "model = build_model().to(device)\n",
    "criterion = nn.CrossEntropyLoss()\n",
    "\n",
    "# phases = (how many blocks to unfreeze, epochs for this phase)\n",
    "# blocks are counted as [layer4, layer3, layer2, layer1, fc]\n",
    "phases = [\n",
    "    (1, 5),   # fc only\n",
    "    (2, 4),   # + layer4\n",
    "    (3, 3),   # + layer3\n",
    "    (4, 3),   # + layer2\n",
    "    (5, 3),   # + layer1 (all convs + fc)\n",
    "]\n",
    "\n",
    "for l, epochs in phases:\n",
    "    print(f\"\\n--- Phase: unfreeze last {l} block(s) + fc; train {epochs} epochs ---\")\n",
    "    set_fine_tune_layers(model, l)\n",
    "    \n",
    "    optimizer = optim.SGD(\n",
    "        filter(lambda p: p.requires_grad, model.parameters()),\n",
    "        lr=0.005, momentum=0.9,\n",
    "        weight_decay=1e-4, nesterov=True\n",
    "    )\n",
    "    scheduler = optim.lr_scheduler.StepLR(optimizer, step_size=max(1, epochs//2), gamma=0.1)\n",
    "    \n",
    "    for epoch in range(1, epochs+1):\n",
    "        train_one_epoch(model, train_loader, optimizer, epoch, epochs)\n",
    "        val_acc = evaluate(model, val_loader)\n",
    "        scheduler.step()\n",
    "    print(f\"[End Phase l={l}]  Best Val Acc this phase: {val_acc:.4f}\")\n",
    "\n",
    "test_acc = evaluate(model, test_loader)\n",
    "print(f\"\\nFinal test accuracy after gradual unfreeze: {test_acc:.4f}\")"
   ]
  },
  {
   "cell_type": "markdown",
   "id": "e89accf6-67fe-47b8-9d6e-e0b9d37d58ec",
   "metadata": {},
   "source": [
    "### Mixing strategies + extra tweaks\n",
    "\n",
    "Now we've seen Strategy 1 and Strategy 2, it is unlikely to get ResNet18 close to a 95% accuracy, but maybe we can improve the 89% test accuracy with a mix of multiple strategies. Here we use data augmentation as well as some tricks to adjust the learning rate so that we don't fall into false minima. We can switch data augmentation to see a difference. Through our tests it was clear that data augmentation allowed a 5% bump over no augmentation. Freezing was also implemented as it seemed to overfit less with it implemented.\n",
    "\n",
    "Training was starting to take very long, so early stopping was also implemented to stop training when there was no more benefit. The first code cell lists the hyperparameters that were used and seemed to work best. There is a high likelihood there are better parameters. \n",
    "\n",
    "```\n",
    "Eval: 100%|██████████████████████████████████████████| 115/115 [01:58<00:00,  1.03s/it, acc=0.882]\n",
    "Eval → acc 0.8817\n",
    "```\n",
    "\n",
    "Hmmm... not the result we were looking for. It became clear that maybe ResNet18 was learning as much as it could possibly. We will switch to a larger model now and see how the model improves."
   ]
  },
  {
   "cell_type": "code",
   "execution_count": 44,
   "id": "a113632b-a85e-4a97-911d-9c8a0e8d26dd",
   "metadata": {},
   "outputs": [],
   "source": [
    "# CELL ONE: Imports & Hyperparameters\n",
    "import torch, torch.nn as nn, torch.optim as optim\n",
    "from torch.utils.data import DataLoader, random_split\n",
    "from torchvision import transforms\n",
    "from torchvision.datasets import OxfordIIITPet\n",
    "from torchvision.models import resnet18, ResNet18_Weights\n",
    "from tqdm import tqdm\n",
    "\n",
    "# device & seed\n",
    "device = torch.device(\"cuda\" if torch.cuda.is_available() else \"cpu\")\n",
    "torch.manual_seed(42)\n",
    "\n",
    "# Hyperparams\n",
    "NUM_CLASSES    = 37\n",
    "BATCH_SIZE     = 32\n",
    "TRAINVAL_SPLIT = 0.8       # train/val split\n",
    "PATIENCE       = 3         # early-stopping\n",
    "MIN_DELTA      = 1e-4\n",
    "WEIGHT_DECAY   = 1e-4      # L2\n",
    "AUGMENT        = True      # toggle strong aug\n",
    "FT_BN          = True      # fine-tune BatchNorm\n",
    "SCHEDULER      = 'cosine'  # 'step' or 'cosine'\n",
    "BASE_LR        = 1e-4      # for conv layers\n",
    "HEAD_LR        = 1e-2      # for fc / newly unfrozen\n",
    "STEP_SIZE      = 5         # for StepLR\n",
    "GAMMA          = 0.1       # for StepLR"
   ]
  },
  {
   "cell_type": "code",
   "execution_count": 45,
   "id": "d08bc5a6-9080-4680-9f16-43ebf97e4f03",
   "metadata": {},
   "outputs": [],
   "source": [
    "# CELL TWO: Data & Augmentations\n",
    "if AUGMENT:\n",
    "    train_transform = transforms.Compose([\n",
    "        transforms.RandomResizedCrop(224, scale=(0.8,1.0)),\n",
    "        transforms.RandomHorizontalFlip(),\n",
    "        transforms.RandomRotation(15),\n",
    "        transforms.ColorJitter(0.2,0.2,0.2,0.1),\n",
    "        transforms.ToTensor(),\n",
    "        transforms.Normalize([0.485,0.456,0.406],[0.229,0.224,0.225]),\n",
    "    ])\n",
    "else:\n",
    "    train_transform = transforms.Compose([\n",
    "        transforms.Resize(224),\n",
    "        transforms.CenterCrop(224),\n",
    "        transforms.ToTensor(),\n",
    "        transforms.Normalize([0.485,0.456,0.406],[0.229,0.224,0.225]),\n",
    "    ])\n",
    "\n",
    "val_test_transform = transforms.Compose([\n",
    "    transforms.Resize(224),\n",
    "    transforms.CenterCrop(224),\n",
    "    transforms.ToTensor(),\n",
    "    transforms.Normalize([0.485,0.456,0.406],[0.229,0.224,0.225]),\n",
    "])\n",
    "\n",
    "# load full trainval and test\n",
    "full = OxfordIIITPet('data', split='trainval', target_types='category',\n",
    "                     transform=train_transform, download=True)\n",
    "test = OxfordIIITPet('data', split='test',    target_types='category',\n",
    "                     transform=val_test_transform, download=True)\n",
    "\n",
    "# train/val split\n",
    "n_train = int(len(full) * TRAINVAL_SPLIT)\n",
    "n_val   = len(full) - n_train\n",
    "train_ds, val_ds = random_split(full, [n_train, n_val])\n",
    "\n",
    "train_ds.dataset.transform = train_transform\n",
    "val_ds.dataset.transform   = val_test_transform\n",
    "\n",
    "train_loader = DataLoader(train_ds, batch_size=BATCH_SIZE, shuffle=True,  num_workers=4)\n",
    "val_loader   = DataLoader(val_ds,   batch_size=BATCH_SIZE, shuffle=False, num_workers=4)\n",
    "test_loader  = DataLoader(test,     batch_size=BATCH_SIZE, shuffle=False, num_workers=4)"
   ]
  },
  {
   "cell_type": "code",
   "execution_count": 46,
   "id": "584c4272-85fd-4d89-adc2-94d2ec22b2c9",
   "metadata": {},
   "outputs": [],
   "source": [
    "# CELL THREE: Model Builder & BN Toggle \n",
    "def build_model(dropout_p=0.5):\n",
    "    model = resnet18(weights=ResNet18_Weights.DEFAULT)\n",
    "    nf = model.fc.in_features\n",
    "    model.fc = nn.Sequential(\n",
    "        nn.Dropout(dropout_p),\n",
    "        nn.Linear(nf, NUM_CLASSES)\n",
    "    )\n",
    "    return model.to(device)\n",
    "\n",
    "def set_bn_mode(model, fine_tune_bn: bool):\n",
    "    # if False: freeze BN (use ImageNet stats)\n",
    "    # if True: allow update of running stats & affine params\n",
    "    for m in model.modules():\n",
    "        if isinstance(m, nn.BatchNorm2d):\n",
    "            m.train() if fine_tune_bn else m.eval()\n",
    "            for p in m.parameters():\n",
    "                p.requires_grad = fine_tune_bn"
   ]
  },
  {
   "cell_type": "code",
   "execution_count": 47,
   "id": "4570cb0e-a960-4628-af6e-2f1f53f43dda",
   "metadata": {},
   "outputs": [],
   "source": [
    "# CELL FOUR: Layer Freezing Helpers \n",
    "def set_fine_tune_layers(model, l):\n",
    "    # freeze everything\n",
    "    for p in model.parameters():\n",
    "        p.requires_grad = False\n",
    "\n",
    "    # unfreeze the classifier head\n",
    "    for p in model.fc.parameters():\n",
    "        p.requires_grad = True\n",
    "\n",
    "    # unfreeze the last l conv‐blocks\n",
    "    conv_blocks = ['layer4','layer3','layer2','layer1']\n",
    "    for block in conv_blocks[:l]:\n",
    "        for p in getattr(model, block).parameters():\n",
    "            p.requires_grad = True\n",
    "\n",
    "    # BatchNorm\n",
    "    set_bn_mode(model, FT_BN)"
   ]
  },
  {
   "cell_type": "code",
   "execution_count": 48,
   "id": "d7da9389-6047-4939-8915-e631d5f6cd7d",
   "metadata": {},
   "outputs": [],
   "source": [
    "# CELL FIVE: Optimizer + Scheduler Factory \n",
    "from torch.optim.lr_scheduler import StepLR, CosineAnnealingLR\n",
    "\n",
    "def make_optimizer_and_scheduler(model, epochs):\n",
    "    param_groups = []\n",
    "    for name, param in model.named_parameters():\n",
    "        if not param.requires_grad:\n",
    "            continue\n",
    "        lr = HEAD_LR if 'fc' in name else BASE_LR\n",
    "        param_groups.append({'params': [param], 'lr': lr, 'weight_decay': WEIGHT_DECAY})\n",
    "\n",
    "    opt = optim.SGD(param_groups, momentum=0.9, nesterov=True)\n",
    "    if SCHEDULER=='step':\n",
    "        sched = StepLR(opt, step_size=STEP_SIZE, gamma=GAMMA)\n",
    "    else:\n",
    "        sched = CosineAnnealingLR(opt, T_max=epochs)\n",
    "    return opt, sched"
   ]
  },
  {
   "cell_type": "code",
   "execution_count": 49,
   "id": "7b350d68-0749-4c8b-9af1-7dbbe2a77b1a",
   "metadata": {},
   "outputs": [],
   "source": [
    "# CELL SIX: Train/Eval + EarlyStopping \n",
    "criterion = nn.CrossEntropyLoss()\n",
    "\n",
    "class EarlyStopping:\n",
    "    def __init__(self, patience=PATIENCE, min_delta=MIN_DELTA):\n",
    "        self.patience, self.min_delta = patience, min_delta\n",
    "        self.best, self.count      = 0, 0\n",
    "\n",
    "    def step(self, val_acc):\n",
    "        if val_acc - self.best > self.min_delta:\n",
    "            self.best, self.count = val_acc, 0\n",
    "            return False\n",
    "        else:\n",
    "            self.count += 1\n",
    "            return self.count > self.patience\n",
    "\n",
    "def train_one_epoch(model, loader, optimizer, epoch, epochs):\n",
    "    model.train()\n",
    "    total_loss, total_correct, seen = 0.0, 0, 0\n",
    "    loop = tqdm(loader, desc=f\"Ep [{epoch}/{epochs}] Train\", ncols=100)\n",
    "    for imgs, lbls in loop:\n",
    "        imgs, lbls = imgs.to(device), lbls.to(device)\n",
    "        optimizer.zero_grad()\n",
    "        out = model(imgs)\n",
    "        loss = criterion(out, lbls)\n",
    "        loss.backward()\n",
    "        optimizer.step()\n",
    "\n",
    "        bs = imgs.size(0)\n",
    "        seen += bs\n",
    "        total_loss   += loss.item()*bs\n",
    "        total_correct+= (out.argmax(1)==lbls).sum().item()\n",
    "        loop.set_postfix(loss=total_loss/seen, acc=total_correct/seen)\n",
    "\n",
    "    avg_l = total_loss/seen\n",
    "    avg_a = total_correct/seen\n",
    "    tqdm.write(f\"Train → loss {avg_l:.4f}, acc {avg_a:.4f}\")\n",
    "    return avg_l, avg_a\n",
    "\n",
    "def evaluate(model, loader):\n",
    "    model.eval()\n",
    "    correct, total = 0, 0\n",
    "    loop = tqdm(loader, desc=\"  Eval\", ncols=100)\n",
    "    with torch.no_grad():\n",
    "        for imgs, lbls in loop:\n",
    "            imgs, lbls = imgs.to(device), lbls.to(device)\n",
    "            out = model(imgs)\n",
    "            correct += (out.argmax(1)==lbls).sum().item()\n",
    "            total   += lbls.size(0)\n",
    "            loop.set_postfix(acc=correct/total)\n",
    "\n",
    "    acc = correct/total\n",
    "    tqdm.write(f\"Eval → acc {acc:.4f}\")\n",
    "    return acc"
   ]
  },
  {
   "cell_type": "code",
   "execution_count": 50,
   "id": "9f7fcf1f-ff9b-40d4-afd7-c17e8ace6f6e",
   "metadata": {
    "scrolled": true
   },
   "outputs": [
    {
     "name": "stdout",
     "output_type": "stream",
     "text": [
      "\n",
      "### GRADUAL  → unfreeze 1 block(s), epochs=5\n"
     ]
    },
    {
     "name": "stderr",
     "output_type": "stream",
     "text": [
      "Ep [1/5] Train: 100%|█████████████████████████| 92/92 [02:55<00:00,  1.90s/it, acc=0.467, loss=1.89]\n"
     ]
    },
    {
     "name": "stdout",
     "output_type": "stream",
     "text": [
      "Train → loss 1.8877, acc 0.4674\n"
     ]
    },
    {
     "name": "stderr",
     "output_type": "stream",
     "text": [
      "  Eval: 100%|████████████████████████████████████████████| 23/23 [00:43<00:00,  1.90s/it, acc=0.772]\n"
     ]
    },
    {
     "name": "stdout",
     "output_type": "stream",
     "text": [
      "Eval → acc 0.7717\n"
     ]
    },
    {
     "name": "stderr",
     "output_type": "stream",
     "text": [
      "Ep [2/5] Train: 100%|████████████████████████| 92/92 [02:54<00:00,  1.90s/it, acc=0.693, loss=0.981]\n"
     ]
    },
    {
     "name": "stdout",
     "output_type": "stream",
     "text": [
      "Train → loss 0.9810, acc 0.6929\n"
     ]
    },
    {
     "name": "stderr",
     "output_type": "stream",
     "text": [
      "  Eval: 100%|████████████████████████████████████████████| 23/23 [00:43<00:00,  1.91s/it, acc=0.826]\n"
     ]
    },
    {
     "name": "stdout",
     "output_type": "stream",
     "text": [
      "Eval → acc 0.8261\n"
     ]
    },
    {
     "name": "stderr",
     "output_type": "stream",
     "text": [
      "Ep [3/5] Train: 100%|████████████████████████| 92/92 [02:54<00:00,  1.90s/it, acc=0.737, loss=0.808]\n"
     ]
    },
    {
     "name": "stdout",
     "output_type": "stream",
     "text": [
      "Train → loss 0.8075, acc 0.7371\n"
     ]
    },
    {
     "name": "stderr",
     "output_type": "stream",
     "text": [
      "  Eval: 100%|████████████████████████████████████████████| 23/23 [00:43<00:00,  1.89s/it, acc=0.823]\n"
     ]
    },
    {
     "name": "stdout",
     "output_type": "stream",
     "text": [
      "Eval → acc 0.8234\n"
     ]
    },
    {
     "name": "stderr",
     "output_type": "stream",
     "text": [
      "Ep [4/5] Train: 100%|████████████████████████| 92/92 [02:54<00:00,  1.89s/it, acc=0.758, loss=0.744]\n"
     ]
    },
    {
     "name": "stdout",
     "output_type": "stream",
     "text": [
      "Train → loss 0.7443, acc 0.7578\n"
     ]
    },
    {
     "name": "stderr",
     "output_type": "stream",
     "text": [
      "  Eval: 100%|████████████████████████████████████████████| 23/23 [00:43<00:00,  1.91s/it, acc=0.855]\n"
     ]
    },
    {
     "name": "stdout",
     "output_type": "stream",
     "text": [
      "Eval → acc 0.8546\n"
     ]
    },
    {
     "name": "stderr",
     "output_type": "stream",
     "text": [
      "Ep [5/5] Train: 100%|████████████████████████| 92/92 [02:54<00:00,  1.90s/it, acc=0.787, loss=0.651]\n"
     ]
    },
    {
     "name": "stdout",
     "output_type": "stream",
     "text": [
      "Train → loss 0.6511, acc 0.7867\n"
     ]
    },
    {
     "name": "stderr",
     "output_type": "stream",
     "text": [
      "  Eval: 100%|████████████████████████████████████████████| 23/23 [00:43<00:00,  1.91s/it, acc=0.853]\n"
     ]
    },
    {
     "name": "stdout",
     "output_type": "stream",
     "text": [
      "Eval → acc 0.8533\n",
      "\n",
      "### GRADUAL  → unfreeze 2 block(s), epochs=4\n"
     ]
    },
    {
     "name": "stderr",
     "output_type": "stream",
     "text": [
      "Ep [1/4] Train: 100%|█████████████████████████| 92/92 [03:00<00:00,  1.96s/it, acc=0.479, loss=1.86]\n"
     ]
    },
    {
     "name": "stdout",
     "output_type": "stream",
     "text": [
      "Train → loss 1.8569, acc 0.4786\n"
     ]
    },
    {
     "name": "stderr",
     "output_type": "stream",
     "text": [
      "  Eval: 100%|█████████████████████████████████████████████| 23/23 [00:43<00:00,  1.90s/it, acc=0.78]\n"
     ]
    },
    {
     "name": "stdout",
     "output_type": "stream",
     "text": [
      "Eval → acc 0.7799\n"
     ]
    },
    {
     "name": "stderr",
     "output_type": "stream",
     "text": [
      "Ep [2/4] Train: 100%|██████████████████████████| 92/92 [02:59<00:00,  1.95s/it, acc=0.716, loss=0.9]\n"
     ]
    },
    {
     "name": "stdout",
     "output_type": "stream",
     "text": [
      "Train → loss 0.9001, acc 0.7157\n"
     ]
    },
    {
     "name": "stderr",
     "output_type": "stream",
     "text": [
      "  Eval: 100%|████████████████████████████████████████████| 23/23 [00:43<00:00,  1.90s/it, acc=0.823]\n"
     ]
    },
    {
     "name": "stdout",
     "output_type": "stream",
     "text": [
      "Eval → acc 0.8234\n"
     ]
    },
    {
     "name": "stderr",
     "output_type": "stream",
     "text": [
      "Ep [3/4] Train: 100%|████████████████████████| 92/92 [02:59<00:00,  1.95s/it, acc=0.746, loss=0.781]\n"
     ]
    },
    {
     "name": "stdout",
     "output_type": "stream",
     "text": [
      "Train → loss 0.7807, acc 0.7463\n"
     ]
    },
    {
     "name": "stderr",
     "output_type": "stream",
     "text": [
      "  Eval: 100%|████████████████████████████████████████████| 23/23 [00:43<00:00,  1.89s/it, acc=0.848]\n"
     ]
    },
    {
     "name": "stdout",
     "output_type": "stream",
     "text": [
      "Eval → acc 0.8478\n"
     ]
    },
    {
     "name": "stderr",
     "output_type": "stream",
     "text": [
      "Ep [4/4] Train: 100%|████████████████████████| 92/92 [03:00<00:00,  1.96s/it, acc=0.785, loss=0.655]\n"
     ]
    },
    {
     "name": "stdout",
     "output_type": "stream",
     "text": [
      "Train → loss 0.6552, acc 0.7850\n"
     ]
    },
    {
     "name": "stderr",
     "output_type": "stream",
     "text": [
      "  Eval: 100%|████████████████████████████████████████████| 23/23 [00:43<00:00,  1.90s/it, acc=0.859]\n"
     ]
    },
    {
     "name": "stdout",
     "output_type": "stream",
     "text": [
      "Eval → acc 0.8587\n",
      "\n",
      "### GRADUAL  → unfreeze 3 block(s), epochs=3\n"
     ]
    },
    {
     "name": "stderr",
     "output_type": "stream",
     "text": [
      "Ep [1/3] Train: 100%|█████████████████████████| 92/92 [03:13<00:00,  2.11s/it, acc=0.475, loss=1.85]\n"
     ]
    },
    {
     "name": "stdout",
     "output_type": "stream",
     "text": [
      "Train → loss 1.8532, acc 0.4749\n"
     ]
    },
    {
     "name": "stderr",
     "output_type": "stream",
     "text": [
      "  Eval: 100%|████████████████████████████████████████████| 23/23 [00:43<00:00,  1.90s/it, acc=0.792]\n"
     ]
    },
    {
     "name": "stdout",
     "output_type": "stream",
     "text": [
      "Eval → acc 0.7921\n"
     ]
    },
    {
     "name": "stderr",
     "output_type": "stream",
     "text": [
      "Ep [2/3] Train: 100%|████████████████████████| 92/92 [03:13<00:00,  2.10s/it, acc=0.721, loss=0.892]\n"
     ]
    },
    {
     "name": "stdout",
     "output_type": "stream",
     "text": [
      "Train → loss 0.8917, acc 0.7208\n"
     ]
    },
    {
     "name": "stderr",
     "output_type": "stream",
     "text": [
      "  Eval: 100%|████████████████████████████████████████████| 23/23 [00:43<00:00,  1.88s/it, acc=0.837]\n"
     ]
    },
    {
     "name": "stdout",
     "output_type": "stream",
     "text": [
      "Eval → acc 0.8370\n"
     ]
    },
    {
     "name": "stderr",
     "output_type": "stream",
     "text": [
      "Ep [3/3] Train: 100%|████████████████████████| 92/92 [03:04<00:00,  2.00s/it, acc=0.779, loss=0.714]\n"
     ]
    },
    {
     "name": "stdout",
     "output_type": "stream",
     "text": [
      "Train → loss 0.7137, acc 0.7789\n"
     ]
    },
    {
     "name": "stderr",
     "output_type": "stream",
     "text": [
      "  Eval: 100%|████████████████████████████████████████████| 23/23 [00:43<00:00,  1.90s/it, acc=0.856]\n"
     ]
    },
    {
     "name": "stdout",
     "output_type": "stream",
     "text": [
      "Eval → acc 0.8560\n",
      "\n",
      "### GRADUAL  → unfreeze 4 block(s), epochs=3\n"
     ]
    },
    {
     "name": "stderr",
     "output_type": "stream",
     "text": [
      "Ep [1/3] Train: 100%|█████████████████████████| 92/92 [03:13<00:00,  2.11s/it, acc=0.487, loss=1.85]\n"
     ]
    },
    {
     "name": "stdout",
     "output_type": "stream",
     "text": [
      "Train → loss 1.8460, acc 0.4868\n"
     ]
    },
    {
     "name": "stderr",
     "output_type": "stream",
     "text": [
      "  Eval: 100%|████████████████████████████████████████████| 23/23 [00:43<00:00,  1.89s/it, acc=0.776]\n"
     ]
    },
    {
     "name": "stdout",
     "output_type": "stream",
     "text": [
      "Eval → acc 0.7758\n"
     ]
    },
    {
     "name": "stderr",
     "output_type": "stream",
     "text": [
      "Ep [2/3] Train: 100%|████████████████████████| 92/92 [03:14<00:00,  2.11s/it, acc=0.704, loss=0.921]\n"
     ]
    },
    {
     "name": "stdout",
     "output_type": "stream",
     "text": [
      "Train → loss 0.9210, acc 0.7041\n"
     ]
    },
    {
     "name": "stderr",
     "output_type": "stream",
     "text": [
      "  Eval: 100%|████████████████████████████████████████████| 23/23 [00:43<00:00,  1.90s/it, acc=0.826]\n"
     ]
    },
    {
     "name": "stdout",
     "output_type": "stream",
     "text": [
      "Eval → acc 0.8261\n"
     ]
    },
    {
     "name": "stderr",
     "output_type": "stream",
     "text": [
      "Ep [3/3] Train: 100%|█████████████████████████| 92/92 [03:14<00:00,  2.12s/it, acc=0.764, loss=0.75]\n"
     ]
    },
    {
     "name": "stdout",
     "output_type": "stream",
     "text": [
      "Train → loss 0.7502, acc 0.7643\n"
     ]
    },
    {
     "name": "stderr",
     "output_type": "stream",
     "text": [
      "  Eval: 100%|████████████████████████████████████████████| 23/23 [00:43<00:00,  1.90s/it, acc=0.853]\n"
     ]
    },
    {
     "name": "stdout",
     "output_type": "stream",
     "text": [
      "Eval → acc 0.8533\n",
      "\n",
      "### GRADUAL  → unfreeze 5 block(s), epochs=3\n"
     ]
    },
    {
     "name": "stderr",
     "output_type": "stream",
     "text": [
      "Ep [1/3] Train: 100%|██████████████████████████| 92/92 [03:17<00:00,  2.15s/it, acc=0.461, loss=1.9]\n"
     ]
    },
    {
     "name": "stdout",
     "output_type": "stream",
     "text": [
      "Train → loss 1.9003, acc 0.4606\n"
     ]
    },
    {
     "name": "stderr",
     "output_type": "stream",
     "text": [
      "  Eval: 100%|████████████████████████████████████████████| 23/23 [00:43<00:00,  1.89s/it, acc=0.803]\n"
     ]
    },
    {
     "name": "stdout",
     "output_type": "stream",
     "text": [
      "Eval → acc 0.8030\n"
     ]
    },
    {
     "name": "stderr",
     "output_type": "stream",
     "text": [
      "Ep [2/3] Train: 100%|████████████████████████| 92/92 [03:13<00:00,  2.10s/it, acc=0.711, loss=0.886]\n"
     ]
    },
    {
     "name": "stdout",
     "output_type": "stream",
     "text": [
      "Train → loss 0.8863, acc 0.7109\n"
     ]
    },
    {
     "name": "stderr",
     "output_type": "stream",
     "text": [
      "  Eval: 100%|████████████████████████████████████████████| 23/23 [00:43<00:00,  1.89s/it, acc=0.829]\n"
     ]
    },
    {
     "name": "stdout",
     "output_type": "stream",
     "text": [
      "Eval → acc 0.8288\n"
     ]
    },
    {
     "name": "stderr",
     "output_type": "stream",
     "text": [
      "Ep [3/3] Train: 100%|████████████████████████| 92/92 [03:33<00:00,  2.32s/it, acc=0.756, loss=0.729]\n"
     ]
    },
    {
     "name": "stdout",
     "output_type": "stream",
     "text": [
      "Train → loss 0.7287, acc 0.7565\n"
     ]
    },
    {
     "name": "stderr",
     "output_type": "stream",
     "text": [
      "  Eval: 100%|████████████████████████████████████████████| 23/23 [02:01<00:00,  5.29s/it, acc=0.848]\n"
     ]
    },
    {
     "name": "stdout",
     "output_type": "stream",
     "text": [
      "Eval → acc 0.8478\n",
      "\n",
      "### ALL      → unfreeze 5 block(s), epochs=5\n"
     ]
    },
    {
     "name": "stderr",
     "output_type": "stream",
     "text": [
      "Ep [1/5] Train: 100%|█████████████████████████| 92/92 [31:33<00:00, 20.58s/it, acc=0.474, loss=1.85]\n"
     ]
    },
    {
     "name": "stdout",
     "output_type": "stream",
     "text": [
      "Train → loss 1.8531, acc 0.4738\n"
     ]
    },
    {
     "name": "stderr",
     "output_type": "stream",
     "text": [
      "  Eval: 100%|████████████████████████████████████████████| 23/23 [00:43<00:00,  1.88s/it, acc=0.781]\n"
     ]
    },
    {
     "name": "stdout",
     "output_type": "stream",
     "text": [
      "Eval → acc 0.7812\n"
     ]
    },
    {
     "name": "stderr",
     "output_type": "stream",
     "text": [
      "Ep [2/5] Train: 100%|█████████████████████████| 92/92 [03:28<00:00,  2.27s/it, acc=0.71, loss=0.901]\n"
     ]
    },
    {
     "name": "stdout",
     "output_type": "stream",
     "text": [
      "Train → loss 0.9007, acc 0.7099\n"
     ]
    },
    {
     "name": "stderr",
     "output_type": "stream",
     "text": [
      "  Eval: 100%|████████████████████████████████████████████| 23/23 [00:43<00:00,  1.90s/it, acc=0.819]\n"
     ]
    },
    {
     "name": "stdout",
     "output_type": "stream",
     "text": [
      "Eval → acc 0.8193\n"
     ]
    },
    {
     "name": "stderr",
     "output_type": "stream",
     "text": [
      "Ep [3/5] Train: 100%|████████████████████████| 92/92 [03:13<00:00,  2.11s/it, acc=0.758, loss=0.754]\n"
     ]
    },
    {
     "name": "stdout",
     "output_type": "stream",
     "text": [
      "Train → loss 0.7542, acc 0.7585\n"
     ]
    },
    {
     "name": "stderr",
     "output_type": "stream",
     "text": [
      "  Eval: 100%|█████████████████████████████████████████████| 23/23 [00:43<00:00,  1.89s/it, acc=0.84]\n"
     ]
    },
    {
     "name": "stdout",
     "output_type": "stream",
     "text": [
      "Eval → acc 0.8397\n"
     ]
    },
    {
     "name": "stderr",
     "output_type": "stream",
     "text": [
      "Ep [4/5] Train: 100%|████████████████████████| 92/92 [03:13<00:00,  2.10s/it, acc=0.782, loss=0.673]\n"
     ]
    },
    {
     "name": "stdout",
     "output_type": "stream",
     "text": [
      "Train → loss 0.6728, acc 0.7823\n"
     ]
    },
    {
     "name": "stderr",
     "output_type": "stream",
     "text": [
      "  Eval: 100%|█████████████████████████████████████████████| 23/23 [00:43<00:00,  1.90s/it, acc=0.88]\n"
     ]
    },
    {
     "name": "stdout",
     "output_type": "stream",
     "text": [
      "Eval → acc 0.8804\n"
     ]
    },
    {
     "name": "stderr",
     "output_type": "stream",
     "text": [
      "Ep [5/5] Train: 100%|████████████████████████| 92/92 [03:13<00:00,  2.10s/it, acc=0.813, loss=0.574]\n"
     ]
    },
    {
     "name": "stdout",
     "output_type": "stream",
     "text": [
      "Train → loss 0.5737, acc 0.8132\n"
     ]
    },
    {
     "name": "stderr",
     "output_type": "stream",
     "text": [
      "  Eval: 100%|████████████████████████████████████████████| 23/23 [00:43<00:00,  1.89s/it, acc=0.885]\n"
     ]
    },
    {
     "name": "stdout",
     "output_type": "stream",
     "text": [
      "Eval → acc 0.8845\n",
      "\n",
      "Best config: all_l5 ⇒ val acc = 0.8845108695652174\n"
     ]
    },
    {
     "name": "stderr",
     "output_type": "stream",
     "text": [
      "  Eval: 100%|██████████████████████████████████████████| 115/115 [01:58<00:00,  1.03s/it, acc=0.882]"
     ]
    },
    {
     "name": "stdout",
     "output_type": "stream",
     "text": [
      "Eval → acc 0.8817\n",
      "Test accuracy: 0.8817116380485146\n"
     ]
    },
    {
     "name": "stderr",
     "output_type": "stream",
     "text": [
      "\n"
     ]
    }
   ],
   "source": [
    "# CELL SEVEN: Experiments\n",
    "# Gradual unfreeze (Strategy 2)\n",
    "AUGMENT = False\n",
    "\n",
    "# phases = (strategy,  blocks to unfreeze, epochs)\n",
    "phases = [\n",
    "    ('gradual', 1, 5),  \n",
    "    ('gradual', 2, 4),\n",
    "    ('gradual', 3, 3),\n",
    "    ('gradual', 4, 3),\n",
    "    ('gradual', 5, 3),\n",
    "    ('all',     5, 5),  # full all-5 \n",
    "]\n",
    "\n",
    "results = {}\n",
    "for strat, l, epochs in phases:\n",
    "    print(f\"\\n### {strat.upper():8s} → unfreeze {l:>1} block(s), epochs={epochs}\")\n",
    "    model = build_model()\n",
    "    set_fine_tune_layers(model, l)\n",
    "    opt, sched = make_optimizer_and_scheduler(model, epochs)\n",
    "\n",
    "    stopper = EarlyStopping()\n",
    "    best_val = 0.0\n",
    "\n",
    "    for ep in range(1, epochs+1):\n",
    "        train_one_epoch(model, train_loader, opt, ep, epochs)\n",
    "        val_acc = evaluate(model, val_loader)\n",
    "        sched.step()\n",
    "        if val_acc > best_val:\n",
    "            best_val = val_acc\n",
    "        if stopper.step(val_acc):\n",
    "            print(f\"→ Early stop at epoch {ep}\")\n",
    "            break\n",
    "\n",
    "    results[f\"{strat}_l{l}\"] = best_val\n",
    "\n",
    "# final test on best\n",
    "best_key = max(results, key=results.get)\n",
    "print(\"\\nBest config:\", best_key, \"⇒ val acc =\", results[best_key])\n",
    "\n",
    "test_acc = evaluate(model, test_loader)\n",
    "print(\"Test accuracy:\", test_acc)"
   ]
  },
  {
   "cell_type": "markdown",
   "id": "4fe91b54-a112-458c-9b11-af1f71e73ed8",
   "metadata": {},
   "source": [
    "### Strategy 3: Implementing ResNet50\n",
    "\n",
    "Here we implement ResNet50, a larger model that should be able to capture more information and hopefully distinguish between the breeds better. We also implement MixUp (a data augmentation strategy listed to achieve a D/C grade).\n",
    "\n",
    "```\n",
    "Eval: 100%|████████████████████████████████████████████| 115/115 [06:38<00:00,  3.46s/it, acc=0.917]\n",
    "Eval → acc 0.9174\n",
    "```\n",
    "\n",
    "Wow! This is around a 2.5% increase over using ResNet18 using similar parameters. This took significantly more time to train however and the returns are diminishing. Let's try one more model and see if we can push it further..."
   ]
  },
  {
   "cell_type": "code",
   "execution_count": 61,
   "id": "bac98eb1-29b4-44e0-88db-b37dc3208bcb",
   "metadata": {},
   "outputs": [],
   "source": [
    "# CELL 1: Imports & Hyperparameters\n",
    "import os, random\n",
    "import numpy as np\n",
    "import torch, torch.nn as nn, torch.optim as optim\n",
    "from torch.optim.lr_scheduler import OneCycleLR\n",
    "from torch.utils.data import DataLoader, Subset\n",
    "from torchvision import transforms\n",
    "from torchvision.datasets import OxfordIIITPet\n",
    "from torchvision.models import resnet50, ResNet50_Weights\n",
    "from tqdm import tqdm\n",
    "\n",
    "# reproducibility & device\n",
    "SEED       = 42\n",
    "random.seed(SEED); np.random.seed(SEED); torch.manual_seed(SEED)\n",
    "device     = torch.device(\"cuda\" if torch.cuda.is_available() else \"cpu\")\n",
    "\n",
    "# hyperparameters\n",
    "NUM_CLASSES = 37\n",
    "BATCH_SIZE  = 32\n",
    "TRAINVAL_SPLIT = 0.8\n",
    "EPOCHS      = 20             \n",
    "MIXUP_ALPHA = 0.4\n",
    "BASE_LR     = 1e-5           # for pretrained layers\n",
    "HEAD_LR     = 1e-3           # for fc head\n",
    "WEIGHT_DECAY= 1e-4\n",
    "PATIENCE    = 4              # early‐stop on val\n",
    "MIN_DELTA   = 1e-4"
   ]
  },
  {
   "cell_type": "code",
   "execution_count": 62,
   "id": "b462faf6-be5f-4d23-9120-d07c3b215d82",
   "metadata": {},
   "outputs": [],
   "source": [
    "# CELL 2: Transforms & DataLoaders \n",
    "train_transform = transforms.Compose([\n",
    "    transforms.RandomResizedCrop(224, scale=(0.8,1.0)),\n",
    "    transforms.RandomHorizontalFlip(),\n",
    "    transforms.RandomRotation(15),\n",
    "    transforms.ColorJitter(0.2,0.2,0.2,0.1),\n",
    "    transforms.ToTensor(),\n",
    "    transforms.Normalize([0.485,0.456,0.406],\n",
    "                         [0.229,0.224,0.225]),\n",
    "])\n",
    "val_test_transform = transforms.Compose([\n",
    "    transforms.Resize(224),\n",
    "    transforms.CenterCrop(224),\n",
    "    transforms.ToTensor(),\n",
    "    transforms.Normalize([0.485,0.456,0.406],\n",
    "                         [0.229,0.224,0.225]),\n",
    "])\n",
    "\n",
    "# load full trainval & test\n",
    "full = OxfordIIITPet('data', split='trainval', target_types='category',\n",
    "                     transform=None, download=True)\n",
    "test = OxfordIIITPet('data', split='test',    target_types='category',\n",
    "                     transform=val_test_transform, download=True)\n",
    "\n",
    "# split indices\n",
    "n = len(full)\n",
    "idx = list(range(n))\n",
    "random.shuffle(idx)\n",
    "split = int(n * TRAINVAL_SPLIT)\n",
    "train_idx, val_idx = idx[:split], idx[split:]\n",
    "\n",
    "# create two separate Datasets with their own transforms\n",
    "train_ds = Subset(\n",
    "    OxfordIIITPet('data','trainval','category',transform=train_transform),\n",
    "    train_idx\n",
    ")\n",
    "val_ds   = Subset(\n",
    "    OxfordIIITPet('data','trainval','category',transform=val_test_transform),\n",
    "    val_idx\n",
    ")\n",
    "\n",
    "train_loader = DataLoader(train_ds, batch_size=BATCH_SIZE, shuffle=True,  num_workers=4)\n",
    "val_loader   = DataLoader(val_ds,   batch_size=BATCH_SIZE, shuffle=False, num_workers=4)\n",
    "test_loader  = DataLoader(test,     batch_size=BATCH_SIZE, shuffle=False, num_workers=4)"
   ]
  },
  {
   "cell_type": "code",
   "execution_count": 63,
   "id": "c42fa89f-ff22-451f-aa51-ba07ed3914f6",
   "metadata": {},
   "outputs": [],
   "source": [
    "# CELL 3: MixUp Utilities \n",
    "def mixup_data(x, y, alpha=MIXUP_ALPHA):\n",
    "    if alpha > 0:\n",
    "        lam = np.random.beta(alpha, alpha)\n",
    "    else:\n",
    "        lam = 1.0\n",
    "    batch_size = x.size(0)\n",
    "    index = torch.randperm(batch_size).to(device)\n",
    "    mixed_x = lam * x + (1 - lam) * x[index]\n",
    "    y_a, y_b = y, y[index]\n",
    "    return mixed_x, y_a, y_b, lam\n",
    "\n",
    "def mixup_criterion(criterion, pred, y_a, y_b, lam):\n",
    "    return lam * criterion(pred, y_a) + (1 - lam) * criterion(pred, y_b)"
   ]
  },
  {
   "cell_type": "code",
   "execution_count": 64,
   "id": "3ef0b078-7cd4-4ca7-bb88-4f117026bc1b",
   "metadata": {},
   "outputs": [],
   "source": [
    "# CELL 4: Build ResNet50 & BN Tuning \n",
    "def build_model(num_classes=NUM_CLASSES, dropout_p=0.5):\n",
    "    model = resnet50(weights=ResNet50_Weights.DEFAULT)\n",
    "    nf = model.fc.in_features\n",
    "    model.fc = nn.Sequential(\n",
    "        nn.Dropout(dropout_p),\n",
    "        nn.Linear(nf, num_classes)\n",
    "    )\n",
    "    return model.to(device)\n",
    "\n",
    "def set_bn_mode(model, fine_tune_bn=True):\n",
    "    # if fine_tune_bn: allow updating running stats & affine weights\n",
    "    # else: freeze BN in eval mode\n",
    "    for m in model.modules():\n",
    "        if isinstance(m, nn.BatchNorm2d):\n",
    "            if fine_tune_bn:\n",
    "                m.train()\n",
    "                for p in m.parameters(): p.requires_grad = True\n",
    "            else:\n",
    "                m.eval()\n",
    "                for p in m.parameters(): p.requires_grad = False"
   ]
  },
  {
   "cell_type": "code",
   "execution_count": 65,
   "id": "2dc1015d-509a-4ede-94f3-928cc27ca9e5",
   "metadata": {},
   "outputs": [],
   "source": [
    "# CELL 5: Optimizer & OneCycle Scheduler \n",
    "def make_optim_scheduler(model, total_steps):\n",
    "    # differential LR groups: head vs. backbone\n",
    "    fc_params   = list(model.fc.parameters())\n",
    "    other_params= [p for n,p in model.named_parameters() if not n.startswith('fc.')]\n",
    "    groups = [\n",
    "        {'params': fc_params,    'lr': HEAD_LR},\n",
    "        {'params': other_params, 'lr': BASE_LR}\n",
    "    ]\n",
    "    optimizer = optim.SGD(groups, momentum=0.9, nesterov=True, weight_decay=WEIGHT_DECAY)\n",
    "    scheduler = OneCycleLR(\n",
    "        optimizer,\n",
    "        max_lr=[HEAD_LR, BASE_LR],\n",
    "        total_steps=total_steps,\n",
    "        pct_start=0.1,\n",
    "        anneal_strategy='cos'\n",
    "    )\n",
    "    return optimizer, scheduler"
   ]
  },
  {
   "cell_type": "code",
   "execution_count": 66,
   "id": "cd7fcbe9-0031-494d-909b-f306b8fd354b",
   "metadata": {},
   "outputs": [],
   "source": [
    "# CELL 6: Train / Eval / EarlyStopping \n",
    "criterion = nn.CrossEntropyLoss()\n",
    "\n",
    "class EarlyStopping:\n",
    "    def __init__(self, patience=PATIENCE, min_delta=MIN_DELTA):\n",
    "        self.patience, self.min_delta = patience, min_delta\n",
    "        self.best, self.count = 0.0, 0\n",
    "    def step(self, val_acc):\n",
    "        if val_acc - self.best > self.min_delta:\n",
    "            self.best, self.count = val_acc, 0\n",
    "            return False\n",
    "        else:\n",
    "            self.count += 1\n",
    "            return self.count > self.patience\n",
    "\n",
    "def train_one_epoch(model, loader, optimizer):\n",
    "    model.train()\n",
    "    total_loss, total_correct, seen = 0.0, 0, 0\n",
    "    loop = tqdm(loader, desc=\"Train\", ncols=100)\n",
    "    for imgs, lbls in loop:\n",
    "        imgs, lbls = imgs.to(device), lbls.to(device)\n",
    "        imgs, y_a, y_b, lam = mixup_data(imgs, lbls)\n",
    "        optimizer.zero_grad()\n",
    "        out = model(imgs)\n",
    "        loss = mixup_criterion(criterion, out, y_a, y_b, lam)\n",
    "        loss.backward()\n",
    "        optimizer.step()\n",
    "\n",
    "        bs = imgs.size(0)\n",
    "        seen += bs\n",
    "        total_loss   += loss.item() * bs\n",
    "        # for accuracy we compare to the lam-weighted targets\n",
    "        preds = out.argmax(dim=1)\n",
    "        total_correct+= (lam * (preds==y_a).float() + (1-lam)*(preds==y_b).float()).sum().item()\n",
    "\n",
    "        loop.set_postfix(loss=total_loss/seen, acc=total_correct/seen)\n",
    "    return total_loss/seen, total_correct/seen\n",
    "\n",
    "def evaluate(model, loader):\n",
    "    model.eval()\n",
    "    correct, total = 0, 0\n",
    "    loop = tqdm(loader, desc=\"Eval\", ncols=100)\n",
    "    with torch.no_grad():\n",
    "        for imgs, lbls in loop:\n",
    "            imgs, lbls = imgs.to(device), lbls.to(device)\n",
    "            out = model(imgs)\n",
    "            correct += (out.argmax(dim=1)==lbls).sum().item()\n",
    "            total   += lbls.size(0)\n",
    "            loop.set_postfix(acc=correct/total)\n",
    "    return correct/total"
   ]
  },
  {
   "cell_type": "code",
   "execution_count": 58,
   "id": "6236083f-cf4d-44d9-8ab5-916a8001893e",
   "metadata": {},
   "outputs": [
    {
     "name": "stdout",
     "output_type": "stream",
     "text": [
      "\n",
      "=== Epoch 1/20 ===\n"
     ]
    },
    {
     "name": "stderr",
     "output_type": "stream",
     "text": [
      "Train: 100%|██████████████████████████████████| 92/92 [09:17<00:00,  6.06s/it, acc=0.266, loss=3.24]\n",
      "Eval: 100%|██████████████████████████████████████████████| 23/23 [01:40<00:00,  4.38s/it, acc=0.834]\n"
     ]
    },
    {
     "name": "stdout",
     "output_type": "stream",
     "text": [
      "Train Acc: 0.2655   Val Acc: 0.8342\n",
      "→ New best, checkpoint saved.\n",
      "\n",
      "=== Epoch 2/20 ===\n"
     ]
    },
    {
     "name": "stderr",
     "output_type": "stream",
     "text": [
      "Train: 100%|██████████████████████████████████| 92/92 [09:32<00:00,  6.23s/it, acc=0.617, loss=1.99]\n",
      "Eval: 100%|██████████████████████████████████████████████| 23/23 [01:39<00:00,  4.33s/it, acc=0.899]\n"
     ]
    },
    {
     "name": "stdout",
     "output_type": "stream",
     "text": [
      "Train Acc: 0.6175   Val Acc: 0.8995\n",
      "→ New best, checkpoint saved.\n",
      "\n",
      "=== Epoch 3/20 ===\n"
     ]
    },
    {
     "name": "stderr",
     "output_type": "stream",
     "text": [
      "Train: 100%|██████████████████████████████████| 92/92 [09:37<00:00,  6.27s/it, acc=0.673, loss=1.54]\n",
      "Eval: 100%|██████████████████████████████████████████████| 23/23 [01:39<00:00,  4.31s/it, acc=0.913]\n"
     ]
    },
    {
     "name": "stdout",
     "output_type": "stream",
     "text": [
      "Train Acc: 0.6731   Val Acc: 0.9130\n",
      "→ New best, checkpoint saved.\n",
      "\n",
      "=== Epoch 4/20 ===\n"
     ]
    },
    {
     "name": "stderr",
     "output_type": "stream",
     "text": [
      "Train: 100%|██████████████████████████████████| 92/92 [09:08<00:00,  5.96s/it, acc=0.692, loss=1.44]\n",
      "Eval: 100%|██████████████████████████████████████████████| 23/23 [01:42<00:00,  4.46s/it, acc=0.918]\n"
     ]
    },
    {
     "name": "stdout",
     "output_type": "stream",
     "text": [
      "Train Acc: 0.6916   Val Acc: 0.9185\n",
      "→ New best, checkpoint saved.\n",
      "\n",
      "=== Epoch 5/20 ===\n"
     ]
    },
    {
     "name": "stderr",
     "output_type": "stream",
     "text": [
      "Train: 100%|██████████████████████████████████| 92/92 [10:03<00:00,  6.56s/it, acc=0.697, loss=1.43]\n",
      "Eval: 100%|██████████████████████████████████████████████| 23/23 [01:39<00:00,  4.34s/it, acc=0.924]\n"
     ]
    },
    {
     "name": "stdout",
     "output_type": "stream",
     "text": [
      "Train Acc: 0.6973   Val Acc: 0.9239\n",
      "→ New best, checkpoint saved.\n",
      "\n",
      "=== Epoch 6/20 ===\n"
     ]
    },
    {
     "name": "stderr",
     "output_type": "stream",
     "text": [
      "Train: 100%|██████████████████████████████████| 92/92 [09:26<00:00,  6.15s/it, acc=0.694, loss=1.42]\n",
      "Eval: 100%|██████████████████████████████████████████████| 23/23 [01:40<00:00,  4.37s/it, acc=0.924]\n"
     ]
    },
    {
     "name": "stdout",
     "output_type": "stream",
     "text": [
      "Train Acc: 0.6936   Val Acc: 0.9239\n",
      "\n",
      "=== Epoch 7/20 ===\n"
     ]
    },
    {
     "name": "stderr",
     "output_type": "stream",
     "text": [
      "Train: 100%|██████████████████████████████████| 92/92 [09:04<00:00,  5.92s/it, acc=0.712, loss=1.31]\n",
      "Eval: 100%|██████████████████████████████████████████████| 23/23 [01:39<00:00,  4.34s/it, acc=0.933]\n"
     ]
    },
    {
     "name": "stdout",
     "output_type": "stream",
     "text": [
      "Train Acc: 0.7122   Val Acc: 0.9334\n",
      "→ New best, checkpoint saved.\n",
      "\n",
      "=== Epoch 8/20 ===\n"
     ]
    },
    {
     "name": "stderr",
     "output_type": "stream",
     "text": [
      "Train: 100%|██████████████████████████████████| 92/92 [10:36<00:00,  6.92s/it, acc=0.716, loss=1.35]\n",
      "Eval: 100%|██████████████████████████████████████████████| 23/23 [01:42<00:00,  4.47s/it, acc=0.925]\n"
     ]
    },
    {
     "name": "stdout",
     "output_type": "stream",
     "text": [
      "Train Acc: 0.7161   Val Acc: 0.9253\n",
      "\n",
      "=== Epoch 9/20 ===\n"
     ]
    },
    {
     "name": "stderr",
     "output_type": "stream",
     "text": [
      "Train: 100%|██████████████████████████████████| 92/92 [09:22<00:00,  6.12s/it, acc=0.731, loss=1.29]\n",
      "Eval: 100%|██████████████████████████████████████████████| 23/23 [01:40<00:00,  4.35s/it, acc=0.933]\n"
     ]
    },
    {
     "name": "stdout",
     "output_type": "stream",
     "text": [
      "Train Acc: 0.7312   Val Acc: 0.9334\n",
      "\n",
      "=== Epoch 10/20 ===\n"
     ]
    },
    {
     "name": "stderr",
     "output_type": "stream",
     "text": [
      "Train: 100%|██████████████████████████████████| 92/92 [09:28<00:00,  6.18s/it, acc=0.742, loss=1.21]\n",
      "Eval: 100%|██████████████████████████████████████████████| 23/23 [01:40<00:00,  4.35s/it, acc=0.928]\n"
     ]
    },
    {
     "name": "stdout",
     "output_type": "stream",
     "text": [
      "Train Acc: 0.7423   Val Acc: 0.9280\n",
      "\n",
      "=== Epoch 11/20 ===\n"
     ]
    },
    {
     "name": "stderr",
     "output_type": "stream",
     "text": [
      "Train: 100%|██████████████████████████████████| 92/92 [10:03<00:00,  6.55s/it, acc=0.749, loss=1.21]\n",
      "Eval: 100%|██████████████████████████████████████████████| 23/23 [01:43<00:00,  4.52s/it, acc=0.929]\n"
     ]
    },
    {
     "name": "stdout",
     "output_type": "stream",
     "text": [
      "Train Acc: 0.7485   Val Acc: 0.9293\n",
      "\n",
      "=== Epoch 12/20 ===\n"
     ]
    },
    {
     "name": "stderr",
     "output_type": "stream",
     "text": [
      "Train: 100%|██████████████████████████████████| 92/92 [09:38<00:00,  6.29s/it, acc=0.772, loss=1.11]\n",
      "Eval: 100%|██████████████████████████████████████████████| 23/23 [01:40<00:00,  4.37s/it, acc=0.938]\n"
     ]
    },
    {
     "name": "stdout",
     "output_type": "stream",
     "text": [
      "Train Acc: 0.7725   Val Acc: 0.9375\n",
      "→ New best, checkpoint saved.\n",
      "\n",
      "=== Epoch 13/20 ===\n"
     ]
    },
    {
     "name": "stderr",
     "output_type": "stream",
     "text": [
      "Train: 100%|██████████████████████████████████| 92/92 [09:09<00:00,  5.97s/it, acc=0.733, loss=1.25]\n",
      "Eval: 100%|██████████████████████████████████████████████| 23/23 [01:41<00:00,  4.39s/it, acc=0.939]\n"
     ]
    },
    {
     "name": "stdout",
     "output_type": "stream",
     "text": [
      "Train Acc: 0.7333   Val Acc: 0.9389\n",
      "→ New best, checkpoint saved.\n",
      "\n",
      "=== Epoch 14/20 ===\n"
     ]
    },
    {
     "name": "stderr",
     "output_type": "stream",
     "text": [
      "Train: 100%|██████████████████████████████████| 92/92 [09:39<00:00,  6.30s/it, acc=0.731, loss=1.26]\n",
      "Eval: 100%|██████████████████████████████████████████████| 23/23 [01:42<00:00,  4.47s/it, acc=0.935]\n"
     ]
    },
    {
     "name": "stdout",
     "output_type": "stream",
     "text": [
      "Train Acc: 0.7313   Val Acc: 0.9348\n",
      "\n",
      "=== Epoch 15/20 ===\n"
     ]
    },
    {
     "name": "stderr",
     "output_type": "stream",
     "text": [
      "Train: 100%|██████████████████████████████████| 92/92 [09:26<00:00,  6.16s/it, acc=0.754, loss=1.19]\n",
      "Eval: 100%|██████████████████████████████████████████████| 23/23 [01:45<00:00,  4.59s/it, acc=0.942]\n"
     ]
    },
    {
     "name": "stdout",
     "output_type": "stream",
     "text": [
      "Train Acc: 0.7540   Val Acc: 0.9416\n",
      "→ New best, checkpoint saved.\n",
      "\n",
      "=== Epoch 16/20 ===\n"
     ]
    },
    {
     "name": "stderr",
     "output_type": "stream",
     "text": [
      "Train: 100%|██████████████████████████████████| 92/92 [10:08<00:00,  6.62s/it, acc=0.748, loss=1.24]\n",
      "Eval: 100%|██████████████████████████████████████████████| 23/23 [01:41<00:00,  4.40s/it, acc=0.936]\n"
     ]
    },
    {
     "name": "stdout",
     "output_type": "stream",
     "text": [
      "Train Acc: 0.7482   Val Acc: 0.9361\n",
      "\n",
      "=== Epoch 17/20 ===\n"
     ]
    },
    {
     "name": "stderr",
     "output_type": "stream",
     "text": [
      "Train: 100%|██████████████████████████████████| 92/92 [09:13<00:00,  6.02s/it, acc=0.759, loss=1.17]\n",
      "Eval: 100%|██████████████████████████████████████████████| 23/23 [01:41<00:00,  4.41s/it, acc=0.939]\n"
     ]
    },
    {
     "name": "stdout",
     "output_type": "stream",
     "text": [
      "Train Acc: 0.7586   Val Acc: 0.9389\n",
      "\n",
      "=== Epoch 18/20 ===\n"
     ]
    },
    {
     "name": "stderr",
     "output_type": "stream",
     "text": [
      "Train: 100%|███████████████████████████████████| 92/92 [09:09<00:00,  5.97s/it, acc=0.74, loss=1.24]\n",
      "Eval: 100%|███████████████████████████████████████████████| 23/23 [01:40<00:00,  4.36s/it, acc=0.94]\n"
     ]
    },
    {
     "name": "stdout",
     "output_type": "stream",
     "text": [
      "Train Acc: 0.7397   Val Acc: 0.9402\n",
      "\n",
      "=== Epoch 19/20 ===\n"
     ]
    },
    {
     "name": "stderr",
     "output_type": "stream",
     "text": [
      "Train: 100%|██████████████████████████████████| 92/92 [09:04<00:00,  5.92s/it, acc=0.718, loss=1.32]\n",
      "Eval: 100%|██████████████████████████████████████████████| 23/23 [01:39<00:00,  4.34s/it, acc=0.938]\n"
     ]
    },
    {
     "name": "stdout",
     "output_type": "stream",
     "text": [
      "Train Acc: 0.7176   Val Acc: 0.9375\n",
      "\n",
      "=== Epoch 20/20 ===\n"
     ]
    },
    {
     "name": "stderr",
     "output_type": "stream",
     "text": [
      "Train: 100%|██████████████████████████████████| 92/92 [10:13<00:00,  6.66s/it, acc=0.732, loss=1.27]\n",
      "Eval: 100%|███████████████████████████████████████████████| 23/23 [01:39<00:00,  4.35s/it, acc=0.94]\n",
      "/var/folders/85/f86x4j3j1db4c945p14ghk2m0000gn/T/ipykernel_33097/2242223264.py:67: FutureWarning: You are using `torch.load` with `weights_only=False` (the current default value), which uses the default pickle module implicitly. It is possible to construct malicious pickle data which will execute arbitrary code during unpickling (See https://github.com/pytorch/pytorch/blob/main/SECURITY.md#untrusted-models for more details). In a future release, the default value for `weights_only` will be flipped to `True`. This limits the functions that could be executed during unpickling. Arbitrary objects will no longer be allowed to be loaded via this mode unless they are explicitly allowlisted by the user via `torch.serialization.add_safe_globals`. We recommend you start setting `weights_only=True` for any use case where you don't have full control of the loaded file. Please open an issue on GitHub for any issues related to this experimental feature.\n",
      "  model.load_state_dict(torch.load(ckpt_path))\n"
     ]
    },
    {
     "name": "stdout",
     "output_type": "stream",
     "text": [
      "Train Acc: 0.7322   Val Acc: 0.9402\n",
      "→ Early stopping at epoch 20\n"
     ]
    },
    {
     "name": "stderr",
     "output_type": "stream",
     "text": [
      "Eval: 100%|████████████████████████████████████████████| 115/115 [06:38<00:00,  3.46s/it, acc=0.917]"
     ]
    },
    {
     "name": "stdout",
     "output_type": "stream",
     "text": [
      "\n",
      "*** Final Test Accuracy: 0.9174 ***\n"
     ]
    },
    {
     "name": "stderr",
     "output_type": "stream",
     "text": [
      "\n"
     ]
    }
   ],
   "source": [
    "# CELL 7: Full Training Loop with Checkpointing \n",
    "# Rebuild model and set BatchNorm\n",
    "model = build_model()\n",
    "set_bn_mode(model, fine_tune_bn=True)\n",
    "\n",
    "# Optimizer with differential LRs: head 1e-2, backbone 1e-4\n",
    "optimizer = optim.SGD([\n",
    "    {'params': model.fc.parameters(),                                    'lr': 1e-2},\n",
    "    {'params': [p for n,p in model.named_parameters() if 'fc' not in n], 'lr': 1e-4}\n",
    "], momentum=0.9, weight_decay=WEIGHT_DECAY, nesterov=True)\n",
    "\n",
    "# OneCycleLR with proper total_steps and max_lr\n",
    "total_steps = EPOCHS * len(train_loader)\n",
    "scheduler = OneCycleLR(\n",
    "    optimizer,\n",
    "    max_lr=[1e-2, 1e-4],\n",
    "    total_steps=total_steps,\n",
    "    pct_start=0.1,\n",
    "    anneal_strategy='cos'\n",
    ")\n",
    "\n",
    "stopper = EarlyStopping()\n",
    "best_val = 0.0\n",
    "ckpt_path = \"best_resnet50_fixed.pth\"\n",
    "step = 0\n",
    "\n",
    "for epoch in range(1, EPOCHS+1):\n",
    "    print(f\"\\n=== Epoch {epoch}/{EPOCHS} ===\")\n",
    "    # Training\n",
    "    model.train()\n",
    "    train_loss, train_correct, seen = 0.0, 0, 0\n",
    "    loop = tqdm(train_loader, desc=\"Train\", ncols=100)\n",
    "    for imgs, lbls in loop:\n",
    "        imgs, lbls = imgs.to(device), lbls.to(device)\n",
    "        # ensure lam is Python float\n",
    "        mixed_x, y_a, y_b, lam = mixup_data(imgs, lbls)\n",
    "        lam = float(lam)\n",
    "        optimizer.zero_grad()\n",
    "        out = model(mixed_x)\n",
    "        loss = mixup_criterion(criterion, out, y_a, y_b, lam)\n",
    "        loss.backward()\n",
    "        optimizer.step()\n",
    "        scheduler.step()       # step per batch\n",
    "\n",
    "        bs = imgs.size(0)\n",
    "        seen       += bs\n",
    "        train_loss += loss.item() * bs\n",
    "        preds      = out.argmax(dim=1)\n",
    "        train_correct += (lam * (preds==y_a).float() + (1-lam)*(preds==y_b).float()).sum().item()\n",
    "        loop.set_postfix(loss=train_loss/seen, acc=train_correct/seen)\n",
    "\n",
    "    # Validation\n",
    "    val_acc = evaluate(model, val_loader)\n",
    "    avg_train_acc = train_correct/seen\n",
    "    print(f\"Train Acc: {avg_train_acc:.4f}   Val Acc: {val_acc:.4f}\")\n",
    "\n",
    "    # Checkpoint & early stop\n",
    "    if val_acc > best_val + MIN_DELTA:\n",
    "        best_val = val_acc\n",
    "        torch.save(model.state_dict(), ckpt_path)\n",
    "        print(\"→ New best, checkpoint saved.\")\n",
    "    if stopper.step(val_acc):\n",
    "        print(f\"→ Early stopping at epoch {epoch}\")\n",
    "        break\n",
    "\n",
    "# Load best checkpoint and test\n",
    "model.load_state_dict(torch.load(ckpt_path))\n",
    "test_acc = evaluate(model, test_loader)\n",
    "print(f\"\\n*** Final Test Accuracy: {test_acc:.4f} ***\")"
   ]
  },
  {
   "cell_type": "markdown",
   "id": "8081289e-baff-4494-9646-8ac255187aff",
   "metadata": {},
   "source": [
    "### Strategy 4: Implementing EfficientNet-B3\n",
    "\n",
    "EfficientNet-B3 is a well known image classification model (and is, well, efficient). Perhaps this models architecture would be better suited for classifying the breeds.\n",
    "\n",
    "We are implementing MixUp as well as CutMix. With a more robust model, this should allow our model to not overfit and generalize more. This is especially good because earlier models were overfitting more than they should have.\n",
    "\n",
    "After running the model for 10 hours (yeah...), we achieve a validation accuracy of 95.52%. This is great! On our test set we get the following.\n",
    "\n",
    "```\n",
    "Eval: 100%|█████████████████████████████████████████████| 115/115 [13:42<00:00,  7.15s/it, acc=0.93]\n",
    "\n",
    "*** Final Test Accuracy: 0.9302 ***\n",
    "```\n",
    "\n",
    "This is great! And is a 4% increase over what we were getting using ResNet18 with Strategy 1 and Strategy 2.\n",
    "\n",
    "You could train on all of the data to generalize across all datasets, and would likely see another increase in performance. This would make testing the accuracy difficult however."
   ]
  },
  {
   "cell_type": "code",
   "execution_count": 69,
   "id": "eb67e564-8997-4e35-a0fe-c9bdf51d1f1b",
   "metadata": {},
   "outputs": [],
   "source": [
    "# CELL 1: Imports & Hyperparameters\n",
    "import os, random\n",
    "import numpy as np\n",
    "import torch, torch.nn as nn\n",
    "import torch.optim as optim\n",
    "from torch.optim.lr_scheduler import CosineAnnealingWarmRestarts\n",
    "from torch.utils.data import DataLoader, Subset\n",
    "from torchvision import transforms, models\n",
    "from torchvision.datasets import OxfordIIITPet\n",
    "from tqdm import tqdm\n",
    "\n",
    "# reproducibility & device\n",
    "SEED            = 42\n",
    "random.seed(SEED)\n",
    "np.random.seed(SEED)\n",
    "torch.manual_seed(SEED)\n",
    "device          = torch.device(\"cuda\" if torch.cuda.is_available() else \"cpu\")\n",
    "\n",
    "# hyperparameters\n",
    "NUM_CLASSES     = 37\n",
    "BATCH_SIZE      = 32\n",
    "TRAINVAL_SPLIT  = 0.8\n",
    "EPOCHS          = 30\n",
    "FREEZE_EPOCHS   = 5\n",
    "MIXUP_ALPHA     = 0.4\n",
    "CUTMIX_ALPHA    = 1.0\n",
    "HEAD_LR         = 1e-3\n",
    "BASE_LR         = 1e-4\n",
    "WEIGHT_DECAY    = 1e-4\n",
    "LABEL_SMOOTHING = 0.1\n",
    "CKPT_PATH       = \"best_effnetb3.pth\"\n",
    "MIN_DELTA       = 1e-4\n",
    "PATIENCE        = 4"
   ]
  },
  {
   "cell_type": "code",
   "execution_count": 70,
   "id": "ee47665a-641e-4300-9cca-50cecb5a5cd0",
   "metadata": {},
   "outputs": [],
   "source": [
    "# CELL 2: Transforms & DataLoaders\n",
    "train_transform = transforms.Compose([\n",
    "    transforms.RandomResizedCrop(300, scale=(0.8,1.0)),\n",
    "    transforms.RandAugment(num_ops=2, magnitude=9),\n",
    "    transforms.RandomHorizontalFlip(),\n",
    "    transforms.ToTensor(),\n",
    "    transforms.Normalize([0.485,0.456,0.406],\n",
    "                         [0.229,0.224,0.225]),\n",
    "])\n",
    "val_test_transform = transforms.Compose([\n",
    "    transforms.Resize(320),\n",
    "    transforms.CenterCrop(300),\n",
    "    transforms.ToTensor(),\n",
    "    transforms.Normalize([0.485,0.456,0.406],\n",
    "                         [0.229,0.224,0.225]),\n",
    "])\n",
    "\n",
    "full = OxfordIIITPet('data', split='trainval', target_types='category', download=True)\n",
    "test = OxfordIIITPet('data', split='test',     target_types='category', transform=val_test_transform, download=True)\n",
    "\n",
    "n = len(full)\n",
    "idx = list(range(n))\n",
    "random.shuffle(idx)\n",
    "split = int(n * TRAINVAL_SPLIT)\n",
    "train_idx, val_idx = idx[:split], idx[split:]\n",
    "\n",
    "train_ds = Subset(\n",
    "    OxfordIIITPet('data','trainval','category',transform=train_transform),\n",
    "    train_idx\n",
    ")\n",
    "val_ds = Subset(\n",
    "    OxfordIIITPet('data','trainval','category',transform=val_test_transform),\n",
    "    val_idx\n",
    ")\n",
    "\n",
    "train_loader = DataLoader(train_ds, batch_size=BATCH_SIZE, shuffle=True,  num_workers=4)\n",
    "val_loader   = DataLoader(val_ds,   batch_size=BATCH_SIZE, shuffle=False, num_workers=4)\n",
    "test_loader  = DataLoader(test,     batch_size=BATCH_SIZE, shuffle=False, num_workers=4)"
   ]
  },
  {
   "cell_type": "code",
   "execution_count": 71,
   "id": "c8ad5131-b521-449e-9d6c-9adaaedf8ccb",
   "metadata": {},
   "outputs": [
    {
     "name": "stderr",
     "output_type": "stream",
     "text": [
      "Downloading: \"https://download.pytorch.org/models/efficientnet_b3_rwightman-b3899882.pth\" to /Users/johnludeke/.cache/torch/hub/checkpoints/efficientnet_b3_rwightman-b3899882.pth\n",
      "100%|██████████████████████████████████████| 47.2M/47.2M [00:06<00:00, 7.99MB/s]\n"
     ]
    }
   ],
   "source": [
    "# CELL 3: Build EfficientNet-B3 & BN toggling\n",
    "def build_model(num_classes=NUM_CLASSES, dropout_p=0.5):\n",
    "    weights = models.EfficientNet_B3_Weights.IMAGENET1K_V1\n",
    "    model = models.efficientnet_b3(weights=weights)\n",
    "    nf = model.classifier[1].in_features\n",
    "    model.classifier = nn.Sequential(\n",
    "        nn.Dropout(dropout_p),\n",
    "        nn.Linear(nf, num_classes)\n",
    "    )\n",
    "    return model.to(device)\n",
    "\n",
    "def set_bn_mode(model, fine_tune_bn=True):\n",
    "    for m in model.modules():\n",
    "        if isinstance(m, nn.BatchNorm2d):\n",
    "            if fine_tune_bn:\n",
    "                m.train()\n",
    "                for p in m.parameters(): p.requires_grad = True\n",
    "            else:\n",
    "                m.eval()\n",
    "                for p in m.parameters(): p.requires_grad = False\n",
    "\n",
    "def freeze_backbone(model):\n",
    "    for name, p in model.named_parameters():\n",
    "        if not name.startswith('classifier'): p.requires_grad = False\n",
    "\n",
    "def unfreeze_all(model):\n",
    "    for p in model.parameters(): p.requires_grad = True\n",
    "\n",
    "model = build_model()"
   ]
  },
  {
   "cell_type": "code",
   "execution_count": 72,
   "id": "eb364585-e9eb-4c4f-bad8-49c9a6ac7aea",
   "metadata": {},
   "outputs": [],
   "source": [
    "# CELL 4: MixUp & CutMix utilities\n",
    "def mixup_data(x, y, alpha=MIXUP_ALPHA):\n",
    "    lam = np.random.beta(alpha, alpha) if alpha > 0 else 1.0\n",
    "    idx = torch.randperm(x.size(0)).to(device)\n",
    "    mixed_x = lam * x + (1 - lam) * x[idx]\n",
    "    return mixed_x, y, y[idx], lam\n",
    "\n",
    "def cutmix_data(x, y, alpha=CUTMIX_ALPHA):\n",
    "    lam = np.random.beta(alpha, alpha) if alpha > 0 else 1.0\n",
    "    B, _, H, W = x.size()\n",
    "    idx = torch.randperm(B).to(device)\n",
    "    cut_rat = np.sqrt(1. - lam)\n",
    "    cut_w = int(W * cut_rat)\n",
    "    cut_h = int(H * cut_rat)\n",
    "    cx = np.random.randint(W); cy = np.random.randint(H)\n",
    "    x1 = np.clip(cx - cut_w//2, 0, W); x2 = np.clip(cx + cut_w//2, 0, W)\n",
    "    y1 = np.clip(cy - cut_h//2, 0, H); y2 = np.clip(cy + cut_h//2, 0, H)\n",
    "    x[:, :, y1:y2, x1:x2] = x[idx, :, y1:y2, x1:x2]\n",
    "    lam = 1 - ((x2-x1)*(y2-y1)/(H*W))\n",
    "    return x, y, y[idx], lam\n",
    "\n",
    "def mixup_criterion(crit, pred, y_a, y_b, lam):\n",
    "    return lam*crit(pred, y_a) + (1-lam)*crit(pred, y_b)"
   ]
  },
  {
   "cell_type": "code",
   "execution_count": 73,
   "id": "3db52bbe-390e-44b8-9bad-2d1ccbe1204c",
   "metadata": {},
   "outputs": [],
   "source": [
    "# CELL 5: Loss & EarlyStopping\n",
    "criterion = nn.CrossEntropyLoss(label_smoothing=LABEL_SMOOTHING)\n",
    "\n",
    "class EarlyStopping:\n",
    "    def __init__(self, patience=PATIENCE, min_delta=MIN_DELTA):\n",
    "        self.patience, self.min_delta = patience, min_delta\n",
    "        self.best, self.count = 0.0, 0\n",
    "    def step(self, val_acc):\n",
    "        if val_acc - self.best > self.min_delta:\n",
    "            self.best, self.count = val_acc, 0\n",
    "            return False\n",
    "        else:\n",
    "            self.count += 1\n",
    "            return self.count > self.patience"
   ]
  },
  {
   "cell_type": "code",
   "execution_count": 74,
   "id": "d7a15e7f-ed7a-4b0d-b70c-ae29435508f7",
   "metadata": {},
   "outputs": [],
   "source": [
    "# CELL 6: Optimizer & Scheduler\n",
    "optimizer = optim.AdamW([\n",
    "    {'params': model.classifier.parameters(),         'lr': HEAD_LR},\n",
    "    {'params': [p for n,p in model.named_parameters() if 'classifier' not in n], 'lr': BASE_LR}\n",
    "], weight_decay=WEIGHT_DECAY)\n",
    "\n",
    "scheduler = CosineAnnealingWarmRestarts(\n",
    "    optimizer,\n",
    "    T_0=10,\n",
    "    T_mult=2\n",
    ")"
   ]
  },
  {
   "cell_type": "code",
   "execution_count": 76,
   "id": "009b8158-9995-4c40-8b4e-d8239cdc3fe6",
   "metadata": {},
   "outputs": [],
   "source": [
    "# CELL 7: Train & Eval functions with tqdm\n",
    "def train_one_epoch(model, loader, optimizer):\n",
    "    model.train()\n",
    "    total_loss, total_correct, seen = 0.0, 0, 0\n",
    "    loop = tqdm(loader, desc=\"Train\", ncols=100)\n",
    "    for imgs, lbls in loop:\n",
    "        imgs, lbls = imgs.to(device), lbls.to(device)\n",
    "        r = random.random()\n",
    "        if r < 0.4:\n",
    "            imgs, y_a, y_b, lam = mixup_data(imgs, lbls)\n",
    "            loss_fn = lambda out: mixup_criterion(criterion, out, y_a, y_b, lam)\n",
    "        elif r < 0.8:\n",
    "            imgs, y_a, y_b, lam = cutmix_data(imgs, lbls)\n",
    "            loss_fn = lambda out: mixup_criterion(criterion, out, y_a, y_b, lam)\n",
    "        else:\n",
    "            y_a, y_b, lam = lbls, lbls, 1.0\n",
    "            loss_fn = lambda out: criterion(out, lbls)\n",
    "\n",
    "        optimizer.zero_grad()\n",
    "        out = model(imgs)\n",
    "        loss = loss_fn(out)\n",
    "        loss.backward()\n",
    "        optimizer.step()\n",
    "        scheduler.step()\n",
    "\n",
    "        bs = lbls.size(0)\n",
    "        preds = out.argmax(dim=1)\n",
    "        correct = (lam*(preds==y_a).float() + (1-lam)*(preds==y_b).float()).sum().item()\n",
    "        total_correct += correct\n",
    "        seen += bs\n",
    "        total_loss += loss.item() * bs\n",
    "\n",
    "        loop.set_postfix(loss=total_loss/seen, acc=total_correct/seen)\n",
    "    return total_loss/seen, total_correct/seen\n",
    "\n",
    "def evaluate(model, loader):\n",
    "    model.eval()\n",
    "    correct, total = 0, 0\n",
    "    loop = tqdm(loader, desc=\"Eval\", ncols=100)\n",
    "    with torch.no_grad():\n",
    "        for imgs, lbls in loop:\n",
    "            imgs, lbls = imgs.to(device), lbls.to(device)\n",
    "            out = model(imgs)\n",
    "            batch_correct = (out.argmax(dim=1)==lbls).sum().item()\n",
    "            correct += batch_correct\n",
    "            total += lbls.size(0)\n",
    "            loop.set_postfix(acc=correct/total)\n",
    "    return correct/total"
   ]
  },
  {
   "cell_type": "code",
   "execution_count": 77,
   "id": "88eee615-0fab-4d8b-aa59-e3f48f44b71f",
   "metadata": {
    "scrolled": true
   },
   "outputs": [
    {
     "name": "stdout",
     "output_type": "stream",
     "text": [
      "\n",
      "=== Epoch 1/30 ===\n"
     ]
    },
    {
     "name": "stderr",
     "output_type": "stream",
     "text": [
      "Train: 100%|██████████████████████████████████| 92/92 [11:41<00:00,  7.62s/it, acc=0.332, loss=3.19]\n",
      "Eval: 100%|██████████████████████████████████████████████| 23/23 [03:08<00:00,  8.20s/it, acc=0.836]\n"
     ]
    },
    {
     "name": "stdout",
     "output_type": "stream",
     "text": [
      "Train Acc: 0.3317  Val Acc: 0.8356\n",
      "→ New best, checkpoint saved.\n",
      "\n",
      "=== Epoch 2/30 ===\n"
     ]
    },
    {
     "name": "stderr",
     "output_type": "stream",
     "text": [
      "Train: 100%|███████████████████████████████████| 92/92 [11:32<00:00,  7.53s/it, acc=0.615, loss=2.5]\n",
      "Eval: 100%|██████████████████████████████████████████████| 23/23 [03:05<00:00,  8.04s/it, acc=0.885]\n"
     ]
    },
    {
     "name": "stdout",
     "output_type": "stream",
     "text": [
      "Train Acc: 0.6147  Val Acc: 0.8845\n",
      "→ New best, checkpoint saved.\n",
      "\n",
      "=== Epoch 3/30 ===\n"
     ]
    },
    {
     "name": "stderr",
     "output_type": "stream",
     "text": [
      "Train: 100%|███████████████████████████████████| 92/92 [11:46<00:00,  7.68s/it, acc=0.624, loss=2.2]\n",
      "Eval: 100%|██████████████████████████████████████████████| 23/23 [03:02<00:00,  7.94s/it, acc=0.904]\n"
     ]
    },
    {
     "name": "stdout",
     "output_type": "stream",
     "text": [
      "Train Acc: 0.6237  Val Acc: 0.9035\n",
      "→ New best, checkpoint saved.\n",
      "\n",
      "=== Epoch 4/30 ===\n"
     ]
    },
    {
     "name": "stderr",
     "output_type": "stream",
     "text": [
      "Train: 100%|██████████████████████████████████| 92/92 [11:30<00:00,  7.50s/it, acc=0.697, loss=1.91]\n",
      "Eval: 100%|██████████████████████████████████████████████| 23/23 [03:04<00:00,  8.00s/it, acc=0.904]\n"
     ]
    },
    {
     "name": "stdout",
     "output_type": "stream",
     "text": [
      "Train Acc: 0.6970  Val Acc: 0.9035\n",
      "\n",
      "=== Epoch 5/30 ===\n"
     ]
    },
    {
     "name": "stderr",
     "output_type": "stream",
     "text": [
      "Train: 100%|██████████████████████████████████| 92/92 [11:31<00:00,  7.51s/it, acc=0.665, loss=1.92]\n",
      "Eval: 100%|██████████████████████████████████████████████| 23/23 [03:06<00:00,  8.11s/it, acc=0.912]\n"
     ]
    },
    {
     "name": "stdout",
     "output_type": "stream",
     "text": [
      "Train Acc: 0.6651  Val Acc: 0.9117\n",
      "→ New best, checkpoint saved.\n",
      "\n",
      "=== Epoch 6/30 ===\n"
     ]
    },
    {
     "name": "stderr",
     "output_type": "stream",
     "text": [
      "Train: 100%|██████████████████████████████████| 92/92 [41:36<00:00, 27.13s/it, acc=0.724, loss=1.72]\n",
      "Eval: 100%|██████████████████████████████████████████████| 23/23 [03:04<00:00,  8.01s/it, acc=0.931]\n"
     ]
    },
    {
     "name": "stdout",
     "output_type": "stream",
     "text": [
      "Train Acc: 0.7236  Val Acc: 0.9307\n",
      "→ New best, checkpoint saved.\n",
      "\n",
      "=== Epoch 7/30 ===\n"
     ]
    },
    {
     "name": "stderr",
     "output_type": "stream",
     "text": [
      "Train: 100%|██████████████████████████████████| 92/92 [44:03<00:00, 28.73s/it, acc=0.707, loss=1.75]\n",
      "Eval: 100%|██████████████████████████████████████████████| 23/23 [03:04<00:00,  8.03s/it, acc=0.938]\n"
     ]
    },
    {
     "name": "stdout",
     "output_type": "stream",
     "text": [
      "Train Acc: 0.7073  Val Acc: 0.9375\n",
      "→ New best, checkpoint saved.\n",
      "\n",
      "=== Epoch 8/30 ===\n"
     ]
    },
    {
     "name": "stderr",
     "output_type": "stream",
     "text": [
      "Train: 100%|██████████████████████████████████| 92/92 [44:05<00:00, 28.75s/it, acc=0.714, loss=1.65]\n",
      "Eval: 100%|███████████████████████████████████████████████| 23/23 [03:03<00:00,  7.99s/it, acc=0.94]\n"
     ]
    },
    {
     "name": "stdout",
     "output_type": "stream",
     "text": [
      "Train Acc: 0.7141  Val Acc: 0.9402\n",
      "→ New best, checkpoint saved.\n",
      "\n",
      "=== Epoch 9/30 ===\n"
     ]
    },
    {
     "name": "stderr",
     "output_type": "stream",
     "text": [
      "Train: 100%|██████████████████████████████████| 92/92 [41:27<00:00, 27.04s/it, acc=0.736, loss=1.63]\n",
      "Eval: 100%|██████████████████████████████████████████████| 23/23 [03:02<00:00,  7.92s/it, acc=0.947]\n"
     ]
    },
    {
     "name": "stdout",
     "output_type": "stream",
     "text": [
      "Train Acc: 0.7358  Val Acc: 0.9470\n",
      "→ New best, checkpoint saved.\n",
      "\n",
      "=== Epoch 10/30 ===\n"
     ]
    },
    {
     "name": "stderr",
     "output_type": "stream",
     "text": [
      "Train: 100%|██████████████████████████████████| 92/92 [39:20<00:00, 25.66s/it, acc=0.749, loss=1.55]\n",
      "Eval: 100%|██████████████████████████████████████████████| 23/23 [03:02<00:00,  7.92s/it, acc=0.955]\n"
     ]
    },
    {
     "name": "stdout",
     "output_type": "stream",
     "text": [
      "Train Acc: 0.7487  Val Acc: 0.9552\n",
      "→ New best, checkpoint saved.\n",
      "\n",
      "=== Epoch 11/30 ===\n"
     ]
    },
    {
     "name": "stderr",
     "output_type": "stream",
     "text": [
      "Train: 100%|██████████████████████████████████| 92/92 [39:54<00:00, 26.03s/it, acc=0.752, loss=1.54]\n",
      "Eval: 100%|██████████████████████████████████████████████| 23/23 [03:01<00:00,  7.91s/it, acc=0.951]\n"
     ]
    },
    {
     "name": "stdout",
     "output_type": "stream",
     "text": [
      "Train Acc: 0.7524  Val Acc: 0.9511\n",
      "\n",
      "=== Epoch 12/30 ===\n"
     ]
    },
    {
     "name": "stderr",
     "output_type": "stream",
     "text": [
      "Train: 100%|██████████████████████████████████| 92/92 [42:28<00:00, 27.70s/it, acc=0.735, loss=1.58]\n",
      "Eval: 100%|██████████████████████████████████████████████| 23/23 [03:02<00:00,  7.95s/it, acc=0.947]\n"
     ]
    },
    {
     "name": "stdout",
     "output_type": "stream",
     "text": [
      "Train Acc: 0.7353  Val Acc: 0.9470\n",
      "\n",
      "=== Epoch 13/30 ===\n"
     ]
    },
    {
     "name": "stderr",
     "output_type": "stream",
     "text": [
      "Train: 100%|██████████████████████████████████| 92/92 [41:02<00:00, 26.77s/it, acc=0.753, loss=1.52]\n",
      "Eval: 100%|██████████████████████████████████████████████| 23/23 [03:04<00:00,  8.03s/it, acc=0.948]\n"
     ]
    },
    {
     "name": "stdout",
     "output_type": "stream",
     "text": [
      "Train Acc: 0.7531  Val Acc: 0.9484\n",
      "\n",
      "=== Epoch 14/30 ===\n"
     ]
    },
    {
     "name": "stderr",
     "output_type": "stream",
     "text": [
      "Train: 100%|██████████████████████████████████| 92/92 [38:51<00:00, 25.34s/it, acc=0.787, loss=1.43]\n",
      "Eval: 100%|███████████████████████████████████████████████| 23/23 [03:02<00:00,  7.93s/it, acc=0.95]\n"
     ]
    },
    {
     "name": "stdout",
     "output_type": "stream",
     "text": [
      "Train Acc: 0.7867  Val Acc: 0.9497\n",
      "\n",
      "=== Epoch 15/30 ===\n"
     ]
    },
    {
     "name": "stderr",
     "output_type": "stream",
     "text": [
      "Train: 100%|██████████████████████████████████| 92/92 [40:31<00:00, 26.43s/it, acc=0.744, loss=1.58]\n",
      "Eval: 100%|██████████████████████████████████████████████| 23/23 [03:25<00:00,  8.92s/it, acc=0.951]"
     ]
    },
    {
     "name": "stdout",
     "output_type": "stream",
     "text": [
      "Train Acc: 0.7443  Val Acc: 0.9511\n",
      "→ Early stopping at epoch 15\n"
     ]
    },
    {
     "name": "stderr",
     "output_type": "stream",
     "text": [
      "\n"
     ]
    }
   ],
   "source": [
    "# CELL 8: Full Training Loop\n",
    "stopper = EarlyStopping()\n",
    "best_val = 0.0\n",
    "\n",
    "for epoch in range(1, EPOCHS+1):\n",
    "    print(f\"\\n=== Epoch {epoch}/{EPOCHS} ===\")\n",
    "    if epoch <= FREEZE_EPOCHS:\n",
    "        freeze_backbone(model)\n",
    "        set_bn_mode(model, fine_tune_bn=False)\n",
    "    else:\n",
    "        unfreeze_all(model)\n",
    "        set_bn_mode(model, fine_tune_bn=True)\n",
    "\n",
    "    train_loss, train_acc = train_one_epoch(model, train_loader, optimizer)\n",
    "    val_acc = evaluate(model, val_loader)\n",
    "    print(f\"Train Acc: {train_acc:.4f}  Val Acc: {val_acc:.4f}\")\n",
    "\n",
    "    if val_acc > best_val + MIN_DELTA:\n",
    "        best_val = val_acc\n",
    "        torch.save(model.state_dict(), CKPT_PATH)\n",
    "        print(\"→ New best, checkpoint saved.\")\n",
    "    if stopper.step(val_acc):\n",
    "        print(f\"→ Early stopping at epoch {epoch}\")\n",
    "        break"
   ]
  },
  {
   "cell_type": "code",
   "execution_count": 78,
   "id": "822432b0-3742-405a-9241-6e008f224326",
   "metadata": {},
   "outputs": [
    {
     "name": "stderr",
     "output_type": "stream",
     "text": [
      "/var/folders/85/f86x4j3j1db4c945p14ghk2m0000gn/T/ipykernel_33097/2970216898.py:2: FutureWarning: You are using `torch.load` with `weights_only=False` (the current default value), which uses the default pickle module implicitly. It is possible to construct malicious pickle data which will execute arbitrary code during unpickling (See https://github.com/pytorch/pytorch/blob/main/SECURITY.md#untrusted-models for more details). In a future release, the default value for `weights_only` will be flipped to `True`. This limits the functions that could be executed during unpickling. Arbitrary objects will no longer be allowed to be loaded via this mode unless they are explicitly allowlisted by the user via `torch.serialization.add_safe_globals`. We recommend you start setting `weights_only=True` for any use case where you don't have full control of the loaded file. Please open an issue on GitHub for any issues related to this experimental feature.\n",
      "  model.load_state_dict(torch.load(CKPT_PATH))\n",
      "Eval: 100%|█████████████████████████████████████████████| 115/115 [13:42<00:00,  7.15s/it, acc=0.93]"
     ]
    },
    {
     "name": "stdout",
     "output_type": "stream",
     "text": [
      "\n",
      "*** Final Test Accuracy: 0.9302 ***\n"
     ]
    },
    {
     "name": "stderr",
     "output_type": "stream",
     "text": [
      "\n"
     ]
    }
   ],
   "source": [
    "# CELL 9: Load Best & Test\n",
    "model.load_state_dict(torch.load(CKPT_PATH))\n",
    "test_acc = evaluate(model, test_loader)\n",
    "print(f\"\\n*** Final Test Accuracy: {test_acc:.4f} ***\")"
   ]
  },
  {
   "cell_type": "code",
   "execution_count": null,
   "id": "232c0185-b2e7-4ff1-9ea9-677df8299362",
   "metadata": {},
   "outputs": [],
   "source": []
  }
 ],
 "metadata": {
  "kernelspec": {
   "display_name": "Python 3 (ipykernel)",
   "language": "python",
   "name": "python3"
  },
  "language_info": {
   "codemirror_mode": {
    "name": "ipython",
    "version": 3
   },
   "file_extension": ".py",
   "mimetype": "text/x-python",
   "name": "python",
   "nbconvert_exporter": "python",
   "pygments_lexer": "ipython3",
   "version": "3.12.4"
  }
 },
 "nbformat": 4,
 "nbformat_minor": 5
}
